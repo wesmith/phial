{
 "cells": [
  {
   "cell_type": "markdown",
   "metadata": {},
   "source": [
    "## gen_truth_test.ipynb\n",
    "### WESmith 05/13/20"
   ]
  },
  {
   "cell_type": "code",
   "execution_count": 70,
   "metadata": {},
   "outputs": [],
   "source": [
    "import itertools as it\n",
    "import pandas    as pd\n",
    "import numpy     as np"
   ]
  },
  {
   "cell_type": "code",
   "execution_count": 95,
   "metadata": {},
   "outputs": [],
   "source": [
    "class AllPerms():  # modified from earlier AllPerms to remove redundant rows from LUT\n",
    "    # create a node set with all possible binary responses\n",
    "    def __init__(self, N, name=''):\n",
    "        # N is the number of inputs to the node\n",
    "        self.N = N\n",
    "        self.permutations = 2**(N+1)\n",
    "        self.indices = set([sum(k) for k in it.product([0,1], repeat=N)])  # index on sum of digits\n",
    "        self.name = name\n",
    "        LUT = []\n",
    "        for k in range(self.permutations):\n",
    "            nn = [int(i) for i in list('{0:016b}'.format(k))]\n",
    "            nn.reverse()\n",
    "            LUT.append([nn[k] for k in self.indices])\n",
    "        self.lut = np.array(LUT).T\n",
    "\n",
    "    def __call__(self, n):\n",
    "        # n is the node-function index\n",
    "        def node(inputs):\n",
    "            # inputs is a binary tuple of node inputs\n",
    "            if (len(inputs) != self.N):\n",
    "                txt = 'this function group requires a tuple with {} inputs: {} supplied'.\\\n",
    "                format(self.N, len(inputs))\n",
    "                raise ValueError(txt)\n",
    "            return self.lut[sum(inputs), n]\n",
    "        return node"
   ]
  },
  {
   "cell_type": "code",
   "execution_count": 147,
   "metadata": {},
   "outputs": [],
   "source": [
    "def gen_truth(dd):\n",
    "    # dd is a dict that maps node label to number of inputs for that node\n",
    "            \n",
    "    objs = [AllPerms(k) for k in set(dd.values())]\n",
    "    \n",
    "    funcs = dict()\n",
    "    for j in objs:\n",
    "        funcs[j.N] = [j(k) for k in range(j.permutations)]\n",
    "    out = dict()\n",
    "    for j, k in dd.items():\n",
    "        out[j] = funcs[k]\n",
    "\n",
    "    return out"
   ]
  },
  {
   "cell_type": "code",
   "execution_count": 154,
   "metadata": {},
   "outputs": [],
   "source": [
    "def test_func(fun, N):\n",
    "    return pd.DataFrame([(k, (fun(k))) for k in it.product([0,1], repeat=N)])"
   ]
  },
  {
   "cell_type": "code",
   "execution_count": 167,
   "metadata": {},
   "outputs": [],
   "source": [
    "dd = dict(A=2, B=3, C=2, D=1)  # example input dict: 1,2,3 input cases, and a duplicate 2-input case"
   ]
  },
  {
   "cell_type": "code",
   "execution_count": 168,
   "metadata": {},
   "outputs": [],
   "source": [
    "funcs = gen_truth(dd)"
   ]
  },
  {
   "cell_type": "code",
   "execution_count": 169,
   "metadata": {},
   "outputs": [
    {
     "data": {
      "text/plain": [
       "{'A': [<function __main__.AllPerms.__call__.<locals>.node(inputs)>,\n",
       "  <function __main__.AllPerms.__call__.<locals>.node(inputs)>,\n",
       "  <function __main__.AllPerms.__call__.<locals>.node(inputs)>,\n",
       "  <function __main__.AllPerms.__call__.<locals>.node(inputs)>,\n",
       "  <function __main__.AllPerms.__call__.<locals>.node(inputs)>,\n",
       "  <function __main__.AllPerms.__call__.<locals>.node(inputs)>,\n",
       "  <function __main__.AllPerms.__call__.<locals>.node(inputs)>,\n",
       "  <function __main__.AllPerms.__call__.<locals>.node(inputs)>],\n",
       " 'B': [<function __main__.AllPerms.__call__.<locals>.node(inputs)>,\n",
       "  <function __main__.AllPerms.__call__.<locals>.node(inputs)>,\n",
       "  <function __main__.AllPerms.__call__.<locals>.node(inputs)>,\n",
       "  <function __main__.AllPerms.__call__.<locals>.node(inputs)>,\n",
       "  <function __main__.AllPerms.__call__.<locals>.node(inputs)>,\n",
       "  <function __main__.AllPerms.__call__.<locals>.node(inputs)>,\n",
       "  <function __main__.AllPerms.__call__.<locals>.node(inputs)>,\n",
       "  <function __main__.AllPerms.__call__.<locals>.node(inputs)>,\n",
       "  <function __main__.AllPerms.__call__.<locals>.node(inputs)>,\n",
       "  <function __main__.AllPerms.__call__.<locals>.node(inputs)>,\n",
       "  <function __main__.AllPerms.__call__.<locals>.node(inputs)>,\n",
       "  <function __main__.AllPerms.__call__.<locals>.node(inputs)>,\n",
       "  <function __main__.AllPerms.__call__.<locals>.node(inputs)>,\n",
       "  <function __main__.AllPerms.__call__.<locals>.node(inputs)>,\n",
       "  <function __main__.AllPerms.__call__.<locals>.node(inputs)>,\n",
       "  <function __main__.AllPerms.__call__.<locals>.node(inputs)>],\n",
       " 'C': [<function __main__.AllPerms.__call__.<locals>.node(inputs)>,\n",
       "  <function __main__.AllPerms.__call__.<locals>.node(inputs)>,\n",
       "  <function __main__.AllPerms.__call__.<locals>.node(inputs)>,\n",
       "  <function __main__.AllPerms.__call__.<locals>.node(inputs)>,\n",
       "  <function __main__.AllPerms.__call__.<locals>.node(inputs)>,\n",
       "  <function __main__.AllPerms.__call__.<locals>.node(inputs)>,\n",
       "  <function __main__.AllPerms.__call__.<locals>.node(inputs)>,\n",
       "  <function __main__.AllPerms.__call__.<locals>.node(inputs)>],\n",
       " 'D': [<function __main__.AllPerms.__call__.<locals>.node(inputs)>,\n",
       "  <function __main__.AllPerms.__call__.<locals>.node(inputs)>,\n",
       "  <function __main__.AllPerms.__call__.<locals>.node(inputs)>,\n",
       "  <function __main__.AllPerms.__call__.<locals>.node(inputs)>]}"
      ]
     },
     "execution_count": 169,
     "metadata": {},
     "output_type": "execute_result"
    }
   ],
   "source": [
    "funcs"
   ]
  },
  {
   "cell_type": "markdown",
   "metadata": {},
   "source": [
    "# test each node"
   ]
  },
  {
   "cell_type": "code",
   "execution_count": 170,
   "metadata": {},
   "outputs": [
    {
     "name": "stdout",
     "output_type": "stream",
     "text": [
      "        0  1\n",
      "0  (0, 0)  0\n",
      "1  (0, 1)  0\n",
      "2  (1, 0)  0\n",
      "3  (1, 1)  0\n",
      "        0  1\n",
      "0  (0, 0)  1\n",
      "1  (0, 1)  0\n",
      "2  (1, 0)  0\n",
      "3  (1, 1)  0\n",
      "        0  1\n",
      "0  (0, 0)  0\n",
      "1  (0, 1)  1\n",
      "2  (1, 0)  1\n",
      "3  (1, 1)  0\n",
      "        0  1\n",
      "0  (0, 0)  1\n",
      "1  (0, 1)  1\n",
      "2  (1, 0)  1\n",
      "3  (1, 1)  0\n",
      "        0  1\n",
      "0  (0, 0)  0\n",
      "1  (0, 1)  0\n",
      "2  (1, 0)  0\n",
      "3  (1, 1)  1\n",
      "        0  1\n",
      "0  (0, 0)  1\n",
      "1  (0, 1)  0\n",
      "2  (1, 0)  0\n",
      "3  (1, 1)  1\n",
      "        0  1\n",
      "0  (0, 0)  0\n",
      "1  (0, 1)  1\n",
      "2  (1, 0)  1\n",
      "3  (1, 1)  1\n",
      "        0  1\n",
      "0  (0, 0)  1\n",
      "1  (0, 1)  1\n",
      "2  (1, 0)  1\n",
      "3  (1, 1)  1\n"
     ]
    }
   ],
   "source": [
    "node = 'A'\n",
    "for k in funcs[node]:\n",
    "    print(test_func(k, dd[node]))"
   ]
  },
  {
   "cell_type": "code",
   "execution_count": 171,
   "metadata": {},
   "outputs": [
    {
     "name": "stdout",
     "output_type": "stream",
     "text": [
      "           0  1\n",
      "0  (0, 0, 0)  0\n",
      "1  (0, 0, 1)  0\n",
      "2  (0, 1, 0)  0\n",
      "3  (0, 1, 1)  0\n",
      "4  (1, 0, 0)  0\n",
      "5  (1, 0, 1)  0\n",
      "6  (1, 1, 0)  0\n",
      "7  (1, 1, 1)  0\n",
      "           0  1\n",
      "0  (0, 0, 0)  1\n",
      "1  (0, 0, 1)  0\n",
      "2  (0, 1, 0)  0\n",
      "3  (0, 1, 1)  0\n",
      "4  (1, 0, 0)  0\n",
      "5  (1, 0, 1)  0\n",
      "6  (1, 1, 0)  0\n",
      "7  (1, 1, 1)  0\n",
      "           0  1\n",
      "0  (0, 0, 0)  0\n",
      "1  (0, 0, 1)  1\n",
      "2  (0, 1, 0)  1\n",
      "3  (0, 1, 1)  0\n",
      "4  (1, 0, 0)  1\n",
      "5  (1, 0, 1)  0\n",
      "6  (1, 1, 0)  0\n",
      "7  (1, 1, 1)  0\n",
      "           0  1\n",
      "0  (0, 0, 0)  1\n",
      "1  (0, 0, 1)  1\n",
      "2  (0, 1, 0)  1\n",
      "3  (0, 1, 1)  0\n",
      "4  (1, 0, 0)  1\n",
      "5  (1, 0, 1)  0\n",
      "6  (1, 1, 0)  0\n",
      "7  (1, 1, 1)  0\n",
      "           0  1\n",
      "0  (0, 0, 0)  0\n",
      "1  (0, 0, 1)  0\n",
      "2  (0, 1, 0)  0\n",
      "3  (0, 1, 1)  1\n",
      "4  (1, 0, 0)  0\n",
      "5  (1, 0, 1)  1\n",
      "6  (1, 1, 0)  1\n",
      "7  (1, 1, 1)  0\n",
      "           0  1\n",
      "0  (0, 0, 0)  1\n",
      "1  (0, 0, 1)  0\n",
      "2  (0, 1, 0)  0\n",
      "3  (0, 1, 1)  1\n",
      "4  (1, 0, 0)  0\n",
      "5  (1, 0, 1)  1\n",
      "6  (1, 1, 0)  1\n",
      "7  (1, 1, 1)  0\n",
      "           0  1\n",
      "0  (0, 0, 0)  0\n",
      "1  (0, 0, 1)  1\n",
      "2  (0, 1, 0)  1\n",
      "3  (0, 1, 1)  1\n",
      "4  (1, 0, 0)  1\n",
      "5  (1, 0, 1)  1\n",
      "6  (1, 1, 0)  1\n",
      "7  (1, 1, 1)  0\n",
      "           0  1\n",
      "0  (0, 0, 0)  1\n",
      "1  (0, 0, 1)  1\n",
      "2  (0, 1, 0)  1\n",
      "3  (0, 1, 1)  1\n",
      "4  (1, 0, 0)  1\n",
      "5  (1, 0, 1)  1\n",
      "6  (1, 1, 0)  1\n",
      "7  (1, 1, 1)  0\n",
      "           0  1\n",
      "0  (0, 0, 0)  0\n",
      "1  (0, 0, 1)  0\n",
      "2  (0, 1, 0)  0\n",
      "3  (0, 1, 1)  0\n",
      "4  (1, 0, 0)  0\n",
      "5  (1, 0, 1)  0\n",
      "6  (1, 1, 0)  0\n",
      "7  (1, 1, 1)  1\n",
      "           0  1\n",
      "0  (0, 0, 0)  1\n",
      "1  (0, 0, 1)  0\n",
      "2  (0, 1, 0)  0\n",
      "3  (0, 1, 1)  0\n",
      "4  (1, 0, 0)  0\n",
      "5  (1, 0, 1)  0\n",
      "6  (1, 1, 0)  0\n",
      "7  (1, 1, 1)  1\n",
      "           0  1\n",
      "0  (0, 0, 0)  0\n",
      "1  (0, 0, 1)  1\n",
      "2  (0, 1, 0)  1\n",
      "3  (0, 1, 1)  0\n",
      "4  (1, 0, 0)  1\n",
      "5  (1, 0, 1)  0\n",
      "6  (1, 1, 0)  0\n",
      "7  (1, 1, 1)  1\n",
      "           0  1\n",
      "0  (0, 0, 0)  1\n",
      "1  (0, 0, 1)  1\n",
      "2  (0, 1, 0)  1\n",
      "3  (0, 1, 1)  0\n",
      "4  (1, 0, 0)  1\n",
      "5  (1, 0, 1)  0\n",
      "6  (1, 1, 0)  0\n",
      "7  (1, 1, 1)  1\n",
      "           0  1\n",
      "0  (0, 0, 0)  0\n",
      "1  (0, 0, 1)  0\n",
      "2  (0, 1, 0)  0\n",
      "3  (0, 1, 1)  1\n",
      "4  (1, 0, 0)  0\n",
      "5  (1, 0, 1)  1\n",
      "6  (1, 1, 0)  1\n",
      "7  (1, 1, 1)  1\n",
      "           0  1\n",
      "0  (0, 0, 0)  1\n",
      "1  (0, 0, 1)  0\n",
      "2  (0, 1, 0)  0\n",
      "3  (0, 1, 1)  1\n",
      "4  (1, 0, 0)  0\n",
      "5  (1, 0, 1)  1\n",
      "6  (1, 1, 0)  1\n",
      "7  (1, 1, 1)  1\n",
      "           0  1\n",
      "0  (0, 0, 0)  0\n",
      "1  (0, 0, 1)  1\n",
      "2  (0, 1, 0)  1\n",
      "3  (0, 1, 1)  1\n",
      "4  (1, 0, 0)  1\n",
      "5  (1, 0, 1)  1\n",
      "6  (1, 1, 0)  1\n",
      "7  (1, 1, 1)  1\n",
      "           0  1\n",
      "0  (0, 0, 0)  1\n",
      "1  (0, 0, 1)  1\n",
      "2  (0, 1, 0)  1\n",
      "3  (0, 1, 1)  1\n",
      "4  (1, 0, 0)  1\n",
      "5  (1, 0, 1)  1\n",
      "6  (1, 1, 0)  1\n",
      "7  (1, 1, 1)  1\n"
     ]
    }
   ],
   "source": [
    "node = 'B'\n",
    "for k in funcs[node]:\n",
    "    print(test_func(k, dd[node]))"
   ]
  },
  {
   "cell_type": "code",
   "execution_count": 172,
   "metadata": {},
   "outputs": [
    {
     "name": "stdout",
     "output_type": "stream",
     "text": [
      "        0  1\n",
      "0  (0, 0)  0\n",
      "1  (0, 1)  0\n",
      "2  (1, 0)  0\n",
      "3  (1, 1)  0\n",
      "        0  1\n",
      "0  (0, 0)  1\n",
      "1  (0, 1)  0\n",
      "2  (1, 0)  0\n",
      "3  (1, 1)  0\n",
      "        0  1\n",
      "0  (0, 0)  0\n",
      "1  (0, 1)  1\n",
      "2  (1, 0)  1\n",
      "3  (1, 1)  0\n",
      "        0  1\n",
      "0  (0, 0)  1\n",
      "1  (0, 1)  1\n",
      "2  (1, 0)  1\n",
      "3  (1, 1)  0\n",
      "        0  1\n",
      "0  (0, 0)  0\n",
      "1  (0, 1)  0\n",
      "2  (1, 0)  0\n",
      "3  (1, 1)  1\n",
      "        0  1\n",
      "0  (0, 0)  1\n",
      "1  (0, 1)  0\n",
      "2  (1, 0)  0\n",
      "3  (1, 1)  1\n",
      "        0  1\n",
      "0  (0, 0)  0\n",
      "1  (0, 1)  1\n",
      "2  (1, 0)  1\n",
      "3  (1, 1)  1\n",
      "        0  1\n",
      "0  (0, 0)  1\n",
      "1  (0, 1)  1\n",
      "2  (1, 0)  1\n",
      "3  (1, 1)  1\n"
     ]
    }
   ],
   "source": [
    "node = 'C'\n",
    "for k in funcs[node]:\n",
    "    print(test_func(k, dd[node]))"
   ]
  },
  {
   "cell_type": "code",
   "execution_count": 173,
   "metadata": {},
   "outputs": [
    {
     "name": "stdout",
     "output_type": "stream",
     "text": [
      "      0  1\n",
      "0  (0,)  0\n",
      "1  (1,)  0\n",
      "      0  1\n",
      "0  (0,)  1\n",
      "1  (1,)  0\n",
      "      0  1\n",
      "0  (0,)  0\n",
      "1  (1,)  1\n",
      "      0  1\n",
      "0  (0,)  1\n",
      "1  (1,)  1\n"
     ]
    }
   ],
   "source": [
    "node = 'D'\n",
    "for k in funcs[node]:\n",
    "    print(test_func(k, dd[node]))"
   ]
  },
  {
   "cell_type": "code",
   "execution_count": 175,
   "metadata": {},
   "outputs": [
    {
     "ename": "ValueError",
     "evalue": "this function group requires a tuple with 2 inputs: 3 supplied",
     "output_type": "error",
     "traceback": [
      "\u001b[0;31m---------------------------------------------------------------------------\u001b[0m",
      "\u001b[0;31mValueError\u001b[0m                                Traceback (most recent call last)",
      "\u001b[0;32m<ipython-input-175-37f100a483af>\u001b[0m in \u001b[0;36m<module>\u001b[0;34m\u001b[0m\n\u001b[1;32m      2\u001b[0m \u001b[0mnode\u001b[0m \u001b[0;34m=\u001b[0m \u001b[0;34m'A'\u001b[0m\u001b[0;34m\u001b[0m\u001b[0;34m\u001b[0m\u001b[0m\n\u001b[1;32m      3\u001b[0m \u001b[0;32mfor\u001b[0m \u001b[0mk\u001b[0m \u001b[0;32min\u001b[0m \u001b[0mfuncs\u001b[0m\u001b[0;34m[\u001b[0m\u001b[0mnode\u001b[0m\u001b[0;34m]\u001b[0m\u001b[0;34m:\u001b[0m\u001b[0;34m\u001b[0m\u001b[0;34m\u001b[0m\u001b[0m\n\u001b[0;32m----> 4\u001b[0;31m     \u001b[0mprint\u001b[0m\u001b[0;34m(\u001b[0m\u001b[0mtest_func\u001b[0m\u001b[0;34m(\u001b[0m\u001b[0mk\u001b[0m\u001b[0;34m,\u001b[0m \u001b[0;36m3\u001b[0m\u001b[0;34m)\u001b[0m\u001b[0;34m)\u001b[0m\u001b[0;34m\u001b[0m\u001b[0;34m\u001b[0m\u001b[0m\n\u001b[0m",
      "\u001b[0;32m<ipython-input-154-1c2321d9492f>\u001b[0m in \u001b[0;36mtest_func\u001b[0;34m(fun, N)\u001b[0m\n\u001b[1;32m      1\u001b[0m \u001b[0;32mdef\u001b[0m \u001b[0mtest_func\u001b[0m\u001b[0;34m(\u001b[0m\u001b[0mfun\u001b[0m\u001b[0;34m,\u001b[0m \u001b[0mN\u001b[0m\u001b[0;34m)\u001b[0m\u001b[0;34m:\u001b[0m\u001b[0;34m\u001b[0m\u001b[0;34m\u001b[0m\u001b[0m\n\u001b[0;32m----> 2\u001b[0;31m     \u001b[0;32mreturn\u001b[0m \u001b[0mpd\u001b[0m\u001b[0;34m.\u001b[0m\u001b[0mDataFrame\u001b[0m\u001b[0;34m(\u001b[0m\u001b[0;34m[\u001b[0m\u001b[0;34m(\u001b[0m\u001b[0mk\u001b[0m\u001b[0;34m,\u001b[0m \u001b[0;34m(\u001b[0m\u001b[0mfun\u001b[0m\u001b[0;34m(\u001b[0m\u001b[0mk\u001b[0m\u001b[0;34m)\u001b[0m\u001b[0;34m)\u001b[0m\u001b[0;34m)\u001b[0m \u001b[0;32mfor\u001b[0m \u001b[0mk\u001b[0m \u001b[0;32min\u001b[0m \u001b[0mit\u001b[0m\u001b[0;34m.\u001b[0m\u001b[0mproduct\u001b[0m\u001b[0;34m(\u001b[0m\u001b[0;34m[\u001b[0m\u001b[0;36m0\u001b[0m\u001b[0;34m,\u001b[0m\u001b[0;36m1\u001b[0m\u001b[0;34m]\u001b[0m\u001b[0;34m,\u001b[0m \u001b[0mrepeat\u001b[0m\u001b[0;34m=\u001b[0m\u001b[0mN\u001b[0m\u001b[0;34m)\u001b[0m\u001b[0;34m]\u001b[0m\u001b[0;34m)\u001b[0m\u001b[0;34m\u001b[0m\u001b[0;34m\u001b[0m\u001b[0m\n\u001b[0m",
      "\u001b[0;32m<ipython-input-154-1c2321d9492f>\u001b[0m in \u001b[0;36m<listcomp>\u001b[0;34m(.0)\u001b[0m\n\u001b[1;32m      1\u001b[0m \u001b[0;32mdef\u001b[0m \u001b[0mtest_func\u001b[0m\u001b[0;34m(\u001b[0m\u001b[0mfun\u001b[0m\u001b[0;34m,\u001b[0m \u001b[0mN\u001b[0m\u001b[0;34m)\u001b[0m\u001b[0;34m:\u001b[0m\u001b[0;34m\u001b[0m\u001b[0;34m\u001b[0m\u001b[0m\n\u001b[0;32m----> 2\u001b[0;31m     \u001b[0;32mreturn\u001b[0m \u001b[0mpd\u001b[0m\u001b[0;34m.\u001b[0m\u001b[0mDataFrame\u001b[0m\u001b[0;34m(\u001b[0m\u001b[0;34m[\u001b[0m\u001b[0;34m(\u001b[0m\u001b[0mk\u001b[0m\u001b[0;34m,\u001b[0m \u001b[0;34m(\u001b[0m\u001b[0mfun\u001b[0m\u001b[0;34m(\u001b[0m\u001b[0mk\u001b[0m\u001b[0;34m)\u001b[0m\u001b[0;34m)\u001b[0m\u001b[0;34m)\u001b[0m \u001b[0;32mfor\u001b[0m \u001b[0mk\u001b[0m \u001b[0;32min\u001b[0m \u001b[0mit\u001b[0m\u001b[0;34m.\u001b[0m\u001b[0mproduct\u001b[0m\u001b[0;34m(\u001b[0m\u001b[0;34m[\u001b[0m\u001b[0;36m0\u001b[0m\u001b[0;34m,\u001b[0m\u001b[0;36m1\u001b[0m\u001b[0;34m]\u001b[0m\u001b[0;34m,\u001b[0m \u001b[0mrepeat\u001b[0m\u001b[0;34m=\u001b[0m\u001b[0mN\u001b[0m\u001b[0;34m)\u001b[0m\u001b[0;34m]\u001b[0m\u001b[0;34m)\u001b[0m\u001b[0;34m\u001b[0m\u001b[0;34m\u001b[0m\u001b[0m\n\u001b[0m",
      "\u001b[0;32m<ipython-input-95-f73e589a36fc>\u001b[0m in \u001b[0;36mnode\u001b[0;34m(inputs)\u001b[0m\n\u001b[1;32m     21\u001b[0m                 \u001b[0mtxt\u001b[0m \u001b[0;34m=\u001b[0m \u001b[0;34m'this function group requires a tuple with {} inputs: {} supplied'\u001b[0m\u001b[0;34m.\u001b[0m\u001b[0;31m\\\u001b[0m\u001b[0;34m\u001b[0m\u001b[0;34m\u001b[0m\u001b[0m\n\u001b[1;32m     22\u001b[0m                 \u001b[0mformat\u001b[0m\u001b[0;34m(\u001b[0m\u001b[0mself\u001b[0m\u001b[0;34m.\u001b[0m\u001b[0mN\u001b[0m\u001b[0;34m,\u001b[0m \u001b[0mlen\u001b[0m\u001b[0;34m(\u001b[0m\u001b[0minputs\u001b[0m\u001b[0;34m)\u001b[0m\u001b[0;34m)\u001b[0m\u001b[0;34m\u001b[0m\u001b[0;34m\u001b[0m\u001b[0m\n\u001b[0;32m---> 23\u001b[0;31m                 \u001b[0;32mraise\u001b[0m \u001b[0mValueError\u001b[0m\u001b[0;34m(\u001b[0m\u001b[0mtxt\u001b[0m\u001b[0;34m)\u001b[0m\u001b[0;34m\u001b[0m\u001b[0;34m\u001b[0m\u001b[0m\n\u001b[0m\u001b[1;32m     24\u001b[0m             \u001b[0;32mreturn\u001b[0m \u001b[0mself\u001b[0m\u001b[0;34m.\u001b[0m\u001b[0mlut\u001b[0m\u001b[0;34m[\u001b[0m\u001b[0msum\u001b[0m\u001b[0;34m(\u001b[0m\u001b[0minputs\u001b[0m\u001b[0;34m)\u001b[0m\u001b[0;34m,\u001b[0m \u001b[0mn\u001b[0m\u001b[0;34m]\u001b[0m\u001b[0;34m\u001b[0m\u001b[0;34m\u001b[0m\u001b[0m\n\u001b[1;32m     25\u001b[0m         \u001b[0;32mreturn\u001b[0m \u001b[0mnode\u001b[0m\u001b[0;34m\u001b[0m\u001b[0;34m\u001b[0m\u001b[0m\n",
      "\u001b[0;31mValueError\u001b[0m: this function group requires a tuple with 2 inputs: 3 supplied"
     ]
    }
   ],
   "source": [
    "# test when incorrect inputs: should get ValueError\n",
    "node = 'A'\n",
    "for k in funcs[node]:\n",
    "    print(test_func(k, 3))"
   ]
  },
  {
   "cell_type": "code",
   "execution_count": null,
   "metadata": {},
   "outputs": [],
   "source": []
  }
 ],
 "metadata": {
  "kernelspec": {
   "display_name": "Python 3",
   "language": "python",
   "name": "python3"
  },
  "language_info": {
   "codemirror_mode": {
    "name": "ipython",
    "version": 3
   },
   "file_extension": ".py",
   "mimetype": "text/x-python",
   "name": "python",
   "nbconvert_exporter": "python",
   "pygments_lexer": "ipython3",
   "version": "3.6.9"
  }
 },
 "nbformat": 4,
 "nbformat_minor": 4
}
