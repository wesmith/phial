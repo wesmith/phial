{
 "cells": [
  {
   "cell_type": "markdown",
   "metadata": {},
   "source": [
    "## examine_functions_2.ipynb\n",
    "### WESmith 05/16/20\n",
    "- test latest function generator in experiment module"
   ]
  },
  {
   "cell_type": "code",
   "execution_count": 21,
   "metadata": {},
   "outputs": [],
   "source": [
    "import phial.experiment as ex\n",
    "import phial.gen_funcs  as gf\n",
    "import pandas as pd\n",
    "import itertools as it"
   ]
  },
  {
   "cell_type": "code",
   "execution_count": 16,
   "metadata": {},
   "outputs": [],
   "source": [
    "def test_func(fun, N):\n",
    "    return pd.DataFrame([(k, (fun(k))) for k in it.product([0,1], repeat=N)])"
   ]
  },
  {
   "cell_type": "code",
   "execution_count": 4,
   "metadata": {},
   "outputs": [],
   "source": [
    "exp = ex.Experiment(\n",
    "    [('A', 'B'), ('A', 'C'), \n",
    "     ('B', 'A'), ('B', 'C'), \n",
    "     ('C', 'A'), ('C', 'B')],\n",
    "    funcs=dict(A='OR', B='AND', C='XOR'),\n",
    "    saveDir='./foo',  # WS note: had to create foo dir: it didn't automatically create it\n",
    "    title='3-node bidirectional; OR, XOR, AND',  \n",
    "    comment = 'test node functions',)"
   ]
  },
  {
   "cell_type": "code",
   "execution_count": 42,
   "metadata": {},
   "outputs": [
    {
     "data": {
      "text/plain": [
       "{'A': 16, 'B': 16, 'C': 16}"
      ]
     },
     "execution_count": 42,
     "metadata": {},
     "output_type": "execute_result"
    }
   ],
   "source": [
    "# producing 16 funcs for each node: why? each node has only 2 inputs, should be 8 funcs/node\n",
    "# answer: 4 input states, 2^4 = 16: all possible outputs where ORDER OF INPUTS IS IMPORTANT\n",
    "# only 8 of these outputs are independent of input order (eg, depend upon sum of inputs)\n",
    "exp.get_num_funcs "
   ]
  },
  {
   "cell_type": "code",
   "execution_count": 41,
   "metadata": {},
   "outputs": [
    {
     "name": "stdout",
     "output_type": "stream",
     "text": [
      "        0  1\n",
      "0  (0, 0)  0\n",
      "1  (0, 1)  1\n",
      "2  (1, 0)  1\n",
      "3  (1, 1)  1\n",
      "        0  1\n",
      "0  (0, 0)  0\n",
      "1  (0, 1)  0\n",
      "2  (1, 0)  0\n",
      "3  (1, 1)  1\n",
      "        0  1\n",
      "0  (0, 0)  0\n",
      "1  (0, 1)  1\n",
      "2  (1, 0)  1\n",
      "3  (1, 1)  0\n"
     ]
    }
   ],
   "source": [
    "# should be 'or', 'and', 'xor': checks ok\n",
    "for k in ['A', 'B', 'C']:\n",
    "    print(test_func(exp.net.get_node(k).func, 2))"
   ]
  },
  {
   "cell_type": "code",
   "execution_count": 8,
   "metadata": {},
   "outputs": [
    {
     "data": {
      "text/plain": [
       "{2: [<function phial.gen_funcs.func_from_true_states.<locals>.binary_func(inputs)>,\n",
       "  <function phial.gen_funcs.func_from_true_states.<locals>.binary_func(inputs)>,\n",
       "  <function phial.gen_funcs.func_from_true_states.<locals>.binary_func(inputs)>,\n",
       "  <function phial.gen_funcs.func_from_true_states.<locals>.binary_func(inputs)>,\n",
       "  <function phial.gen_funcs.func_from_true_states.<locals>.binary_func(inputs)>,\n",
       "  <function phial.gen_funcs.func_from_true_states.<locals>.binary_func(inputs)>,\n",
       "  <function phial.gen_funcs.func_from_true_states.<locals>.binary_func(inputs)>,\n",
       "  <function phial.gen_funcs.func_from_true_states.<locals>.binary_func(inputs)>,\n",
       "  <function phial.gen_funcs.func_from_true_states.<locals>.binary_func(inputs)>,\n",
       "  <function phial.gen_funcs.func_from_true_states.<locals>.binary_func(inputs)>,\n",
       "  <function phial.gen_funcs.func_from_true_states.<locals>.binary_func(inputs)>,\n",
       "  <function phial.gen_funcs.func_from_true_states.<locals>.binary_func(inputs)>,\n",
       "  <function phial.gen_funcs.func_from_true_states.<locals>.binary_func(inputs)>,\n",
       "  <function phial.gen_funcs.func_from_true_states.<locals>.binary_func(inputs)>,\n",
       "  <function phial.gen_funcs.func_from_true_states.<locals>.binary_func(inputs)>,\n",
       "  <function phial.gen_funcs.func_from_true_states.<locals>.binary_func(inputs)>]}"
      ]
     },
     "execution_count": 8,
     "metadata": {},
     "output_type": "execute_result"
    }
   ],
   "source": [
    "exp.func_table"
   ]
  },
  {
   "cell_type": "code",
   "execution_count": 33,
   "metadata": {},
   "outputs": [
    {
     "name": "stdout",
     "output_type": "stream",
     "text": [
      "        0  1\n",
      "0  (0, 0)  0\n",
      "1  (0, 1)  0\n",
      "2  (1, 0)  0\n",
      "3  (1, 1)  0 0\n",
      "        0  1\n",
      "0  (0, 0)  1\n",
      "1  (0, 1)  0\n",
      "2  (1, 0)  0\n",
      "3  (1, 1)  0 1\n",
      "        0  1\n",
      "0  (0, 0)  0\n",
      "1  (0, 1)  1\n",
      "2  (1, 0)  0\n",
      "3  (1, 1)  0 2\n",
      "        0  1\n",
      "0  (0, 0)  0\n",
      "1  (0, 1)  0\n",
      "2  (1, 0)  1\n",
      "3  (1, 1)  0 3\n",
      "        0  1\n",
      "0  (0, 0)  0\n",
      "1  (0, 1)  0\n",
      "2  (1, 0)  0\n",
      "3  (1, 1)  1 4\n",
      "        0  1\n",
      "0  (0, 0)  1\n",
      "1  (0, 1)  1\n",
      "2  (1, 0)  0\n",
      "3  (1, 1)  0 5\n",
      "        0  1\n",
      "0  (0, 0)  1\n",
      "1  (0, 1)  0\n",
      "2  (1, 0)  1\n",
      "3  (1, 1)  0 6\n",
      "        0  1\n",
      "0  (0, 0)  1\n",
      "1  (0, 1)  0\n",
      "2  (1, 0)  0\n",
      "3  (1, 1)  1 7\n",
      "        0  1\n",
      "0  (0, 0)  0\n",
      "1  (0, 1)  1\n",
      "2  (1, 0)  1\n",
      "3  (1, 1)  0 8\n",
      "        0  1\n",
      "0  (0, 0)  0\n",
      "1  (0, 1)  1\n",
      "2  (1, 0)  0\n",
      "3  (1, 1)  1 9\n",
      "        0  1\n",
      "0  (0, 0)  0\n",
      "1  (0, 1)  0\n",
      "2  (1, 0)  1\n",
      "3  (1, 1)  1 10\n",
      "        0  1\n",
      "0  (0, 0)  1\n",
      "1  (0, 1)  1\n",
      "2  (1, 0)  1\n",
      "3  (1, 1)  0 11\n",
      "        0  1\n",
      "0  (0, 0)  1\n",
      "1  (0, 1)  1\n",
      "2  (1, 0)  0\n",
      "3  (1, 1)  1 12\n",
      "        0  1\n",
      "0  (0, 0)  1\n",
      "1  (0, 1)  0\n",
      "2  (1, 0)  1\n",
      "3  (1, 1)  1 13\n",
      "        0  1\n",
      "0  (0, 0)  0\n",
      "1  (0, 1)  1\n",
      "2  (1, 0)  1\n",
      "3  (1, 1)  1 14\n",
      "        0  1\n",
      "0  (0, 0)  1\n",
      "1  (0, 1)  1\n",
      "2  (1, 0)  1\n",
      "3  (1, 1)  1 15\n"
     ]
    }
   ],
   "source": [
    "for k in range(16):\n",
    "    print(test_func(exp.func_table[2][k], 2), k)"
   ]
  },
  {
   "cell_type": "code",
   "execution_count": 46,
   "metadata": {},
   "outputs": [
    {
     "name": "stderr",
     "output_type": "stream",
     "text": [
      "                                                                "
     ]
    },
    {
     "name": "stdout",
     "output_type": "stream",
     "text": [
      "Saved experiment with results to: foo/results_2020-05-16T03:00:57.833166.json\n"
     ]
    },
    {
     "name": "stderr",
     "output_type": "stream",
     "text": [
      "\r"
     ]
    },
    {
     "data": {
      "text/plain": [
       "{'timestamp': '2020-05-16 03:00:56.854668',\n",
       " 'duration': 0.9784981060074642,\n",
       " 'results': {'100': {'phi': 0.243056, 'elapsed_seconds': 0.2187384479911998},\n",
       "  '010': {'phi': 0.243056, 'elapsed_seconds': 0.1888717100082431},\n",
       "  '000': {'phi': 0.194445, 'elapsed_seconds': 0.19309339500614442},\n",
       "  '111': {'phi': 0.499999, 'elapsed_seconds': 0.18719500699080527},\n",
       "  '001': {'phi': 0.243056, 'elapsed_seconds': 0.18430148798506707}},\n",
       " 'connected_components': 2,\n",
       " 'cycles': 2,\n",
       " 'filename': None,\n",
       " 'uname': uname_result(system='Linux', node='smithw-Aspire-E5-576G', release='4.15.0-99-generic', version='#100-Ubuntu SMP Wed Apr 22 20:32:56 UTC 2020', machine='x86_64', processor='x86_64')}"
      ]
     },
     "execution_count": 46,
     "metadata": {},
     "output_type": "execute_result"
    }
   ],
   "source": [
    "exp.run()"
   ]
  },
  {
   "cell_type": "code",
   "execution_count": 47,
   "metadata": {},
   "outputs": [
    {
     "data": {
      "image/png": "[encoded data removed]",
      "text/plain": [
       "<Figure size 1008x288 with 2 Axes>"
      ]
     },
     "metadata": {},
     "output_type": "display_data"
    }
   ],
   "source": [
    "exp.analyze()"
   ]
  },
  {
   "cell_type": "markdown",
   "metadata": {},
   "source": [
    "# NOTE: this is a different answer than Mayner: max phi should be 1.817"
   ]
  },
  {
   "cell_type": "code",
   "execution_count": null,
   "metadata": {},
   "outputs": [],
   "source": []
  }
 ],
 "metadata": {
  "kernelspec": {
   "display_name": "Python 3",
   "language": "python",
   "name": "python3"
  },
  "language_info": {
   "codemirror_mode": {
    "name": "ipython",
    "version": 3
   },
   "file_extension": ".py",
   "mimetype": "text/x-python",
   "name": "python",
   "nbconvert_exporter": "python",
   "pygments_lexer": "ipython3",
   "version": "3.6.9"
  }
 },
 "nbformat": 4,
 "nbformat_minor": 4
}
