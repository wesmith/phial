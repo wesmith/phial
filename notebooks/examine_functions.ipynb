{
 "cells": [
  {
   "cell_type": "markdown",
   "metadata": {},
   "source": [
    "## examine_functions.ipynb\n",
    "### WESmith 05/09/20\n",
    "- look at the individual node functions using truth tables"
   ]
  },
  {
   "cell_type": "code",
   "execution_count": 2,
   "metadata": {},
   "outputs": [],
   "source": [
    "import phial.experiment as ws\n",
    "import phial.toolbox  as tb\n",
    "import phial.node_functions as nf\n",
    "from phial.utils import tic,toc\n",
    "import itertools as it\n",
    "import pandas as pd\n",
    "#tic() # start tracking time of Notebook load"
   ]
  },
  {
   "cell_type": "code",
   "execution_count": 3,
   "metadata": {},
   "outputs": [],
   "source": [
    "nams = ['AND', 'COPY', 'MA',     'MAZ', 'MIN', \n",
    "        'MJ',  'MN',   'NAND',   'NOOP','NOR',\n",
    "        'NOT', 'OR',   'PARITY', 'TRI', 'XOR']"
   ]
  },
  {
   "cell_type": "code",
   "execution_count": 4,
   "metadata": {},
   "outputs": [],
   "source": [
    "def test_func(fun, N):\n",
    "    return pd.DataFrame([(k, (fun(k))) for k in it.product([0,1], repeat=N)])"
   ]
  },
  {
   "cell_type": "code",
   "execution_count": 5,
   "metadata": {},
   "outputs": [],
   "source": [
    "funcs = dict((func, nf.funcLUT.get(func, nf.NOOP_func)) for func in nams)"
   ]
  },
  {
   "cell_type": "code",
   "execution_count": 8,
   "metadata": {},
   "outputs": [
    {
     "data": {
      "text/plain": [
       "<function phial.node_functions.AND_func(inputstates)>"
      ]
     },
     "execution_count": 8,
     "metadata": {},
     "output_type": "execute_result"
    }
   ],
   "source": [
    "funcs['AND']"
   ]
  },
  {
   "cell_type": "code",
   "execution_count": 6,
   "metadata": {},
   "outputs": [
    {
     "data": {
      "text/plain": [
       "{'AND': <function phial.node_functions.AND_func(inputstates)>,\n",
       " 'COPY': <function phial.node_functions.MA_func(inputstates)>,\n",
       " 'MA': <function phial.node_functions.MA_func(inputstates)>,\n",
       " 'MAZ': <function phial.node_functions.MAZ_func(inputstates)>,\n",
       " 'MIN': <function phial.node_functions.MIN_func(inputstates)>,\n",
       " 'MJ': <function phial.node_functions.MJ_func(inputstates)>,\n",
       " 'MN': <function phial.node_functions.MN_func(inputstates)>,\n",
       " 'NAND': <function phial.node_functions.NAND_func(inputstates)>,\n",
       " 'NOOP': <function phial.node_functions.NOOP_func(inputstates)>,\n",
       " 'NOR': <function phial.node_functions.NOR_func(inputstates)>,\n",
       " 'NOT': <function phial.node_functions.NOT_func(inputstates)>,\n",
       " 'OR': <function phial.node_functions.OR_func(inputstates)>,\n",
       " 'PARITY': <function phial.node_functions.PARITY_func(inputstates)>,\n",
       " 'TRI': <function phial.node_functions.TRI_func(inputstates)>,\n",
       " 'XOR': <function phial.node_functions.XOR_func(inputstates)>}"
      ]
     },
     "execution_count": 6,
     "metadata": {},
     "output_type": "execute_result"
    }
   ],
   "source": [
    "funcs"
   ]
  },
  {
   "cell_type": "code",
   "execution_count": 7,
   "metadata": {},
   "outputs": [
    {
     "name": "stdout",
     "output_type": "stream",
     "text": [
      "      0  1\n",
      "0  (0,)  0\n",
      "1  (1,)  1\n",
      "        0  1\n",
      "0  (0, 0)  0\n",
      "1  (0, 1)  1\n",
      "2  (1, 0)  1\n",
      "3  (1, 1)  0\n",
      "           0  1\n",
      "0  (0, 0, 0)  0\n",
      "1  (0, 0, 1)  1\n",
      "2  (0, 1, 0)  1\n",
      "3  (0, 1, 1)  0\n",
      "4  (1, 0, 0)  1\n",
      "5  (1, 0, 1)  0\n",
      "6  (1, 1, 0)  0\n",
      "7  (1, 1, 1)  1\n",
      "               0  1\n",
      "0   (0, 0, 0, 0)  0\n",
      "1   (0, 0, 0, 1)  1\n",
      "2   (0, 0, 1, 0)  1\n",
      "3   (0, 0, 1, 1)  0\n",
      "4   (0, 1, 0, 0)  1\n",
      "5   (0, 1, 0, 1)  0\n",
      "6   (0, 1, 1, 0)  0\n",
      "7   (0, 1, 1, 1)  1\n",
      "8   (1, 0, 0, 0)  1\n",
      "9   (1, 0, 0, 1)  0\n",
      "10  (1, 0, 1, 0)  0\n",
      "11  (1, 0, 1, 1)  1\n",
      "12  (1, 1, 0, 0)  0\n",
      "13  (1, 1, 0, 1)  1\n",
      "14  (1, 1, 1, 0)  1\n",
      "15  (1, 1, 1, 1)  0\n"
     ]
    }
   ],
   "source": [
    "for k in [1,2,3,4]:\n",
    "    print (test_func(funcs['XOR'], k))"
   ]
  },
  {
   "cell_type": "code",
   "execution_count": 17,
   "metadata": {},
   "outputs": [
    {
     "name": "stdout",
     "output_type": "stream",
     "text": [
      "        0  1\n",
      "0  (0, 0)  0\n",
      "1  (0, 1)  0\n",
      "2  (1, 0)  0\n",
      "3  (1, 1)  1\n",
      "           0  1\n",
      "0  (0, 0, 0)  0\n",
      "1  (0, 0, 1)  0\n",
      "2  (0, 1, 0)  0\n",
      "3  (0, 1, 1)  0\n",
      "4  (1, 0, 0)  0\n",
      "5  (1, 0, 1)  0\n",
      "6  (1, 1, 0)  0\n",
      "7  (1, 1, 1)  1\n",
      "               0  1\n",
      "0   (0, 0, 0, 0)  0\n",
      "1   (0, 0, 0, 1)  0\n",
      "2   (0, 0, 1, 0)  0\n",
      "3   (0, 0, 1, 1)  0\n",
      "4   (0, 1, 0, 0)  0\n",
      "5   (0, 1, 0, 1)  0\n",
      "6   (0, 1, 1, 0)  0\n",
      "7   (0, 1, 1, 1)  0\n",
      "8   (1, 0, 0, 0)  0\n",
      "9   (1, 0, 0, 1)  0\n",
      "10  (1, 0, 1, 0)  0\n",
      "11  (1, 0, 1, 1)  0\n",
      "12  (1, 1, 0, 0)  0\n",
      "13  (1, 1, 0, 1)  0\n",
      "14  (1, 1, 1, 0)  0\n",
      "15  (1, 1, 1, 1)  1\n"
     ]
    }
   ],
   "source": [
    "for k in [2,3,4]:\n",
    "    print (test_func(funcs['AND'], k))"
   ]
  },
  {
   "cell_type": "code",
   "execution_count": 18,
   "metadata": {},
   "outputs": [
    {
     "name": "stdout",
     "output_type": "stream",
     "text": [
      "        0  1\n",
      "0  (0, 0)  0\n",
      "1  (0, 1)  1\n",
      "2  (1, 0)  1\n",
      "3  (1, 1)  0\n",
      "           0  1\n",
      "0  (0, 0, 0)  0\n",
      "1  (0, 0, 1)  1\n",
      "2  (0, 1, 0)  1\n",
      "3  (0, 1, 1)  0\n",
      "4  (1, 0, 0)  1\n",
      "5  (1, 0, 1)  0\n",
      "6  (1, 1, 0)  0\n",
      "7  (1, 1, 1)  1\n",
      "               0  1\n",
      "0   (0, 0, 0, 0)  0\n",
      "1   (0, 0, 0, 1)  1\n",
      "2   (0, 0, 1, 0)  1\n",
      "3   (0, 0, 1, 1)  0\n",
      "4   (0, 1, 0, 0)  1\n",
      "5   (0, 1, 0, 1)  0\n",
      "6   (0, 1, 1, 0)  0\n",
      "7   (0, 1, 1, 1)  1\n",
      "8   (1, 0, 0, 0)  1\n",
      "9   (1, 0, 0, 1)  0\n",
      "10  (1, 0, 1, 0)  0\n",
      "11  (1, 0, 1, 1)  1\n",
      "12  (1, 1, 0, 0)  0\n",
      "13  (1, 1, 0, 1)  1\n",
      "14  (1, 1, 1, 0)  1\n",
      "15  (1, 1, 1, 1)  0\n"
     ]
    }
   ],
   "source": [
    "for k in [2,3,4]:\n",
    "    print (test_func(funcs['XOR'], k))"
   ]
  },
  {
   "cell_type": "code",
   "execution_count": 9,
   "metadata": {},
   "outputs": [
    {
     "name": "stdout",
     "output_type": "stream",
     "text": [
      "        0  1\n",
      "0  (0, 0)  0\n",
      "1  (0, 1)  1\n",
      "2  (1, 0)  1\n",
      "3  (1, 1)  1\n",
      "           0  1\n",
      "0  (0, 0, 0)  0\n",
      "1  (0, 0, 1)  1\n",
      "2  (0, 1, 0)  1\n",
      "3  (0, 1, 1)  1\n",
      "4  (1, 0, 0)  1\n",
      "5  (1, 0, 1)  1\n",
      "6  (1, 1, 0)  1\n",
      "7  (1, 1, 1)  1\n",
      "               0  1\n",
      "0   (0, 0, 0, 0)  0\n",
      "1   (0, 0, 0, 1)  1\n",
      "2   (0, 0, 1, 0)  1\n",
      "3   (0, 0, 1, 1)  1\n",
      "4   (0, 1, 0, 0)  1\n",
      "5   (0, 1, 0, 1)  1\n",
      "6   (0, 1, 1, 0)  1\n",
      "7   (0, 1, 1, 1)  1\n",
      "8   (1, 0, 0, 0)  1\n",
      "9   (1, 0, 0, 1)  1\n",
      "10  (1, 0, 1, 0)  1\n",
      "11  (1, 0, 1, 1)  1\n",
      "12  (1, 1, 0, 0)  1\n",
      "13  (1, 1, 0, 1)  1\n",
      "14  (1, 1, 1, 0)  1\n",
      "15  (1, 1, 1, 1)  1\n"
     ]
    }
   ],
   "source": [
    "for k in [2,3,4]:\n",
    "    print (test_func(tb.maz_func, k))"
   ]
  },
  {
   "cell_type": "markdown",
   "metadata": {},
   "source": [
    "### 'maz' appears identical to 'or'"
   ]
  },
  {
   "cell_type": "code",
   "execution_count": null,
   "metadata": {},
   "outputs": [],
   "source": []
  }
 ],
 "metadata": {
  "kernelspec": {
   "display_name": "Python 3",
   "language": "python",
   "name": "python3"
  },
  "language_info": {
   "codemirror_mode": {
    "name": "ipython",
    "version": 3
   },
   "file_extension": ".py",
   "mimetype": "text/x-python",
   "name": "python",
   "nbconvert_exporter": "python",
   "pygments_lexer": "ipython3",
   "version": "3.6.9"
  }
 },
 "nbformat": 4,
 "nbformat_minor": 4
}
