{
 "cells": [
  {
   "cell_type": "markdown",
   "metadata": {},
   "source": [
    "## examine_functions.ipynb\n",
    "### WESmith 05/09/20\n",
    "- look at the individual node functions using truth tables"
   ]
  },
  {
   "cell_type": "code",
   "execution_count": 48,
   "metadata": {},
   "outputs": [],
   "source": [
    "import phial.experiment as ws\n",
    "import phial.toolbox  as tb\n",
    "from phial.utils import tic,toc\n",
    "import itertools as it\n",
    "import pandas as pd\n",
    "#tic() # start tracking time of Notebook load"
   ]
  },
  {
   "cell_type": "code",
   "execution_count": 50,
   "metadata": {},
   "outputs": [],
   "source": [
    "def test_func(fun, N):\n",
    "    return pd.DataFrame([(k, (fun(k))) for k in it.product([0,1], repeat=N)])"
   ]
  },
  {
   "cell_type": "code",
   "execution_count": 51,
   "metadata": {},
   "outputs": [
    {
     "name": "stdout",
     "output_type": "stream",
     "text": [
      "        0  1\n",
      "0  (0, 0)  0\n",
      "1  (0, 1)  1\n",
      "2  (1, 0)  1\n",
      "3  (1, 1)  0\n",
      "           0  1\n",
      "0  (0, 0, 0)  0\n",
      "1  (0, 0, 1)  1\n",
      "2  (0, 1, 0)  1\n",
      "3  (0, 1, 1)  0\n",
      "4  (1, 0, 0)  1\n",
      "5  (1, 0, 1)  0\n",
      "6  (1, 1, 0)  0\n",
      "7  (1, 1, 1)  1\n",
      "               0  1\n",
      "0   (0, 0, 0, 0)  0\n",
      "1   (0, 0, 0, 1)  1\n",
      "2   (0, 0, 1, 0)  1\n",
      "3   (0, 0, 1, 1)  0\n",
      "4   (0, 1, 0, 0)  1\n",
      "5   (0, 1, 0, 1)  0\n",
      "6   (0, 1, 1, 0)  0\n",
      "7   (0, 1, 1, 1)  1\n",
      "8   (1, 0, 0, 0)  1\n",
      "9   (1, 0, 0, 1)  0\n",
      "10  (1, 0, 1, 0)  0\n",
      "11  (1, 0, 1, 1)  1\n",
      "12  (1, 1, 0, 0)  0\n",
      "13  (1, 1, 0, 1)  1\n",
      "14  (1, 1, 1, 0)  1\n",
      "15  (1, 1, 1, 1)  0\n"
     ]
    }
   ],
   "source": [
    "for k in [2,3,4]:\n",
    "    print (test_func(tb.xor_func, k))"
   ]
  },
  {
   "cell_type": "code",
   "execution_count": 52,
   "metadata": {},
   "outputs": [
    {
     "name": "stdout",
     "output_type": "stream",
     "text": [
      "        0  1\n",
      "0  (0, 0)  0\n",
      "1  (0, 1)  1\n",
      "2  (1, 0)  1\n",
      "3  (1, 1)  1\n",
      "           0  1\n",
      "0  (0, 0, 0)  0\n",
      "1  (0, 0, 1)  1\n",
      "2  (0, 1, 0)  1\n",
      "3  (0, 1, 1)  1\n",
      "4  (1, 0, 0)  1\n",
      "5  (1, 0, 1)  1\n",
      "6  (1, 1, 0)  1\n",
      "7  (1, 1, 1)  1\n",
      "               0  1\n",
      "0   (0, 0, 0, 0)  0\n",
      "1   (0, 0, 0, 1)  1\n",
      "2   (0, 0, 1, 0)  1\n",
      "3   (0, 0, 1, 1)  1\n",
      "4   (0, 1, 0, 0)  1\n",
      "5   (0, 1, 0, 1)  1\n",
      "6   (0, 1, 1, 0)  1\n",
      "7   (0, 1, 1, 1)  1\n",
      "8   (1, 0, 0, 0)  1\n",
      "9   (1, 0, 0, 1)  1\n",
      "10  (1, 0, 1, 0)  1\n",
      "11  (1, 0, 1, 1)  1\n",
      "12  (1, 1, 0, 0)  1\n",
      "13  (1, 1, 0, 1)  1\n",
      "14  (1, 1, 1, 0)  1\n",
      "15  (1, 1, 1, 1)  1\n"
     ]
    }
   ],
   "source": [
    "for k in [2,3,4]:\n",
    "    print (test_func(tb.or_func, k))"
   ]
  },
  {
   "cell_type": "code",
   "execution_count": 53,
   "metadata": {},
   "outputs": [
    {
     "name": "stdout",
     "output_type": "stream",
     "text": [
      "        0  1\n",
      "0  (0, 0)  0\n",
      "1  (0, 1)  0\n",
      "2  (1, 0)  0\n",
      "3  (1, 1)  1\n",
      "           0  1\n",
      "0  (0, 0, 0)  0\n",
      "1  (0, 0, 1)  0\n",
      "2  (0, 1, 0)  0\n",
      "3  (0, 1, 1)  0\n",
      "4  (1, 0, 0)  0\n",
      "5  (1, 0, 1)  0\n",
      "6  (1, 1, 0)  0\n",
      "7  (1, 1, 1)  1\n",
      "               0  1\n",
      "0   (0, 0, 0, 0)  0\n",
      "1   (0, 0, 0, 1)  0\n",
      "2   (0, 0, 1, 0)  0\n",
      "3   (0, 0, 1, 1)  0\n",
      "4   (0, 1, 0, 0)  0\n",
      "5   (0, 1, 0, 1)  0\n",
      "6   (0, 1, 1, 0)  0\n",
      "7   (0, 1, 1, 1)  0\n",
      "8   (1, 0, 0, 0)  0\n",
      "9   (1, 0, 0, 1)  0\n",
      "10  (1, 0, 1, 0)  0\n",
      "11  (1, 0, 1, 1)  0\n",
      "12  (1, 1, 0, 0)  0\n",
      "13  (1, 1, 0, 1)  0\n",
      "14  (1, 1, 1, 0)  0\n",
      "15  (1, 1, 1, 1)  1\n"
     ]
    }
   ],
   "source": [
    "for k in [2,3,4]:\n",
    "    print (test_func(tb.and_func, k))"
   ]
  },
  {
   "cell_type": "code",
   "execution_count": null,
   "metadata": {},
   "outputs": [],
   "source": []
  }
 ],
 "metadata": {
  "kernelspec": {
   "display_name": "Python 3",
   "language": "python",
   "name": "python3"
  },
  "language_info": {
   "codemirror_mode": {
    "name": "ipython",
    "version": 3
   },
   "file_extension": ".py",
   "mimetype": "text/x-python",
   "name": "python",
   "nbconvert_exporter": "python",
   "pygments_lexer": "ipython3",
   "version": "3.6.9"
  }
 },
 "nbformat": 4,
 "nbformat_minor": 4
}
