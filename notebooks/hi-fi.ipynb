{
 "cells": [
  {
   "cell_type": "code",
   "execution_count": 1,
   "metadata": {},
   "outputs": [],
   "source": [
    "import networkx as nx\n",
    "from networkx.drawing.nx_pydot import pydot_layout\n",
    "from pprint import pprint\n",
    "import pyphi\n",
    "\n",
    "import phial.toolbox as tb\n",
    "import phial.node_functions as nf\n",
    "import phial.experiment as ex\n",
    "from phial.utils import tic,toc\n",
    "from phial.experiment import Experiment\n",
    "tic() # start tracking time of Notebook load"
   ]
  },
  {
   "cell_type": "markdown",
   "metadata": {},
   "source": [
    "## From Larissa's 2015 paper https://www.mdpi.com/1099-4300/17/8/5472"
   ]
  },
  {
   "cell_type": "code",
   "execution_count": 2,
   "metadata": {
    "scrolled": true
   },
   "outputs": [
    {
     "data": {
      "text/plain": [
       "{'edges': [('A', 'A'),\n",
       "  ('A', 'B'),\n",
       "  ('A', 'F'),\n",
       "  ('B', 'A'),\n",
       "  ('B', 'B'),\n",
       "  ('B', 'C'),\n",
       "  ('C', 'B'),\n",
       "  ('C', 'C'),\n",
       "  ('C', 'D'),\n",
       "  ('D', 'C'),\n",
       "  ('D', 'D'),\n",
       "  ('D', 'E'),\n",
       "  ('E', 'D'),\n",
       "  ('E', 'E'),\n",
       "  ('E', 'F'),\n",
       "  ('F', 'A'),\n",
       "  ('F', 'E'),\n",
       "  ('F', 'F')],\n",
       " 'nodes': ['A(0): 2,MJ_func',\n",
       "  'B(1): 2,MJ_func',\n",
       "  'C(2): 2,MJ_func',\n",
       "  'D(3): 2,MJ_func',\n",
       "  'E(4): 2,MJ_func',\n",
       "  'F(5): 2,MJ_func'],\n",
       " 'num_in_states': 64,\n",
       " 'num_unreachable_states': 32,\n",
       " 'num_state_cc': 4,\n",
       " 'num_state_cycles': 4}"
      ]
     },
     "execution_count": 2,
     "metadata": {},
     "output_type": "execute_result"
    }
   ],
   "source": [
    "import numpy as np\n",
    "tpm=np.array([[0., 0., 0., 0., 0., 0.],\n",
    "       [1., 1., 0., 0., 0., 0.],\n",
    "       [0., 1., 1., 0., 0., 0.],\n",
    "       [1., 0., 1., 0., 0., 0.],\n",
    "       [0., 0., 1., 1., 0., 0.],\n",
    "       [1., 1., 1., 1., 0., 0.],\n",
    "       [0., 1., 0., 1., 0., 0.],\n",
    "       [1., 0., 0., 1., 0., 0.],\n",
    "       [0., 0., 0., 1., 1., 0.],\n",
    "       [1., 1., 0., 1., 1., 0.],\n",
    "       [0., 1., 1., 1., 1., 0.],\n",
    "       [1., 0., 1., 1., 1., 0.],\n",
    "       [0., 0., 1., 0., 1., 0.],\n",
    "       [1., 1., 1., 0., 1., 0.],\n",
    "       [0., 1., 0., 0., 1., 0.],\n",
    "       [1., 0., 0., 0., 1., 0.],\n",
    "       [0., 0., 0., 0., 1., 1.],\n",
    "       [1., 1., 0., 0., 1., 1.],\n",
    "       [0., 1., 1., 0., 1., 1.],\n",
    "       [1., 0., 1., 0., 1., 1.],\n",
    "       [0., 0., 1., 1., 1., 1.],\n",
    "       [1., 1., 1., 1., 1., 1.],\n",
    "       [0., 1., 0., 1., 1., 1.],\n",
    "       [1., 0., 0., 1., 1., 1.],\n",
    "       [0., 0., 0., 1., 0., 1.],\n",
    "       [1., 1., 0., 1., 0., 1.],\n",
    "       [0., 1., 1., 1., 0., 1.],\n",
    "       [1., 0., 1., 1., 0., 1.],\n",
    "       [0., 0., 1., 0., 0., 1.],\n",
    "       [1., 1., 1., 0., 0., 1.],\n",
    "       [0., 1., 0., 0., 0., 1.],\n",
    "       [1., 0., 0., 0., 0., 1.],\n",
    "       [1., 0., 0., 0., 0., 1.],\n",
    "       [0., 1., 0., 0., 0., 1.],\n",
    "       [1., 1., 1., 0., 0., 1.],\n",
    "       [0., 0., 1., 0., 0., 1.],\n",
    "       [1., 0., 1., 1., 0., 1.],\n",
    "       [0., 1., 1., 1., 0., 1.],\n",
    "       [1., 1., 0., 1., 0., 1.],\n",
    "       [0., 0., 0., 1., 0., 1.],\n",
    "       [1., 0., 0., 1., 1., 1.],\n",
    "       [0., 1., 0., 1., 1., 1.],\n",
    "       [1., 1., 1., 1., 1., 1.],\n",
    "       [0., 0., 1., 1., 1., 1.],\n",
    "       [1., 0., 1., 0., 1., 1.],\n",
    "       [0., 1., 1., 0., 1., 1.],\n",
    "       [1., 1., 0., 0., 1., 1.],\n",
    "       [0., 0., 0., 0., 1., 1.],\n",
    "       [1., 0., 0., 0., 1., 0.],\n",
    "       [0., 1., 0., 0., 1., 0.],\n",
    "       [1., 1., 1., 0., 1., 0.],\n",
    "       [0., 0., 1., 0., 1., 0.],\n",
    "       [1., 0., 1., 1., 1., 0.],\n",
    "       [0., 1., 1., 1., 1., 0.],\n",
    "       [1., 1., 0., 1., 1., 0.],\n",
    "       [0., 0., 0., 1., 1., 0.],\n",
    "       [1., 0., 0., 1., 0., 0.],\n",
    "       [0., 1., 0., 1., 0., 0.],\n",
    "       [1., 1., 1., 1., 0., 0.],\n",
    "       [0., 0., 1., 1., 0., 0.],\n",
    "       [1., 0., 1., 0., 0., 0.],\n",
    "       [0., 1., 1., 0., 0., 0.],\n",
    "       [1., 1., 0., 0., 0., 0.],\n",
    "       [0., 0., 0., 0., 0., 0.]])\n",
    "cm=np.array([[1, 1, 0, 0, 0, 1],\n",
    "       [1, 1, 1, 0, 0, 0],\n",
    "       [0, 1, 1, 1, 0, 0],\n",
    "       [0, 0, 1, 1, 1, 0],\n",
    "       [0, 0, 0, 1, 1, 1],\n",
    "       [1, 0, 0, 0, 1, 1]], dtype=np.uint8)\n",
    "G = nx.DiGraph(cm)\n",
    "net = tb.Net(edges=G.edges(), tpm=tpm)\n",
    "net.info()"
   ]
  },
  {
   "cell_type": "code",
   "execution_count": 3,
   "metadata": {},
   "outputs": [
    {
     "data": {
      "text/plain": [
       "<networkx.classes.digraph.DiGraph at 0x7f47e4095d68>"
      ]
     },
     "execution_count": 3,
     "metadata": {},
     "output_type": "execute_result"
    }
   ],
   "source": [
    "nx.DiGraph(pyphi.convert.state_by_node2state_by_state(net.tpm))"
   ]
  },
  {
   "cell_type": "code",
   "execution_count": 4,
   "metadata": {},
   "outputs": [
    {
     "data": {
      "text/html": [
       "<div>\n",
       "<style scoped>\n",
       "    .dataframe tbody tr th:only-of-type {\n",
       "        vertical-align: middle;\n",
       "    }\n",
       "\n",
       "    .dataframe tbody tr th {\n",
       "        vertical-align: top;\n",
       "    }\n",
       "\n",
       "    .dataframe thead th {\n",
       "        text-align: right;\n",
       "    }\n",
       "</style>\n",
       "<table border=\"1\" class=\"dataframe\">\n",
       "  <thead>\n",
       "    <tr style=\"text-align: right;\">\n",
       "      <th></th>\n",
       "      <th>A</th>\n",
       "      <th>B</th>\n",
       "      <th>C</th>\n",
       "      <th>D</th>\n",
       "      <th>E</th>\n",
       "      <th>F</th>\n",
       "    </tr>\n",
       "  </thead>\n",
       "  <tbody>\n",
       "    <tr>\n",
       "      <th>000000</th>\n",
       "      <td>0.0</td>\n",
       "      <td>0.0</td>\n",
       "      <td>0.0</td>\n",
       "      <td>0.0</td>\n",
       "      <td>0.0</td>\n",
       "      <td>0.0</td>\n",
       "    </tr>\n",
       "    <tr>\n",
       "      <th>100000</th>\n",
       "      <td>1.0</td>\n",
       "      <td>1.0</td>\n",
       "      <td>0.0</td>\n",
       "      <td>0.0</td>\n",
       "      <td>0.0</td>\n",
       "      <td>0.0</td>\n",
       "    </tr>\n",
       "    <tr>\n",
       "      <th>010000</th>\n",
       "      <td>0.0</td>\n",
       "      <td>1.0</td>\n",
       "      <td>1.0</td>\n",
       "      <td>0.0</td>\n",
       "      <td>0.0</td>\n",
       "      <td>0.0</td>\n",
       "    </tr>\n",
       "    <tr>\n",
       "      <th>110000</th>\n",
       "      <td>1.0</td>\n",
       "      <td>0.0</td>\n",
       "      <td>1.0</td>\n",
       "      <td>0.0</td>\n",
       "      <td>0.0</td>\n",
       "      <td>0.0</td>\n",
       "    </tr>\n",
       "    <tr>\n",
       "      <th>001000</th>\n",
       "      <td>0.0</td>\n",
       "      <td>0.0</td>\n",
       "      <td>1.0</td>\n",
       "      <td>1.0</td>\n",
       "      <td>0.0</td>\n",
       "      <td>0.0</td>\n",
       "    </tr>\n",
       "    <tr>\n",
       "      <th>...</th>\n",
       "      <td>...</td>\n",
       "      <td>...</td>\n",
       "      <td>...</td>\n",
       "      <td>...</td>\n",
       "      <td>...</td>\n",
       "      <td>...</td>\n",
       "    </tr>\n",
       "    <tr>\n",
       "      <th>110111</th>\n",
       "      <td>0.0</td>\n",
       "      <td>0.0</td>\n",
       "      <td>1.0</td>\n",
       "      <td>1.0</td>\n",
       "      <td>0.0</td>\n",
       "      <td>0.0</td>\n",
       "    </tr>\n",
       "    <tr>\n",
       "      <th>001111</th>\n",
       "      <td>1.0</td>\n",
       "      <td>0.0</td>\n",
       "      <td>1.0</td>\n",
       "      <td>0.0</td>\n",
       "      <td>0.0</td>\n",
       "      <td>0.0</td>\n",
       "    </tr>\n",
       "    <tr>\n",
       "      <th>101111</th>\n",
       "      <td>0.0</td>\n",
       "      <td>1.0</td>\n",
       "      <td>1.0</td>\n",
       "      <td>0.0</td>\n",
       "      <td>0.0</td>\n",
       "      <td>0.0</td>\n",
       "    </tr>\n",
       "    <tr>\n",
       "      <th>011111</th>\n",
       "      <td>1.0</td>\n",
       "      <td>1.0</td>\n",
       "      <td>0.0</td>\n",
       "      <td>0.0</td>\n",
       "      <td>0.0</td>\n",
       "      <td>0.0</td>\n",
       "    </tr>\n",
       "    <tr>\n",
       "      <th>111111</th>\n",
       "      <td>0.0</td>\n",
       "      <td>0.0</td>\n",
       "      <td>0.0</td>\n",
       "      <td>0.0</td>\n",
       "      <td>0.0</td>\n",
       "      <td>0.0</td>\n",
       "    </tr>\n",
       "  </tbody>\n",
       "</table>\n",
       "<p>64 rows × 6 columns</p>\n",
       "</div>"
      ],
      "text/plain": [
       "          A    B    C    D    E    F\n",
       "000000  0.0  0.0  0.0  0.0  0.0  0.0\n",
       "100000  1.0  1.0  0.0  0.0  0.0  0.0\n",
       "010000  0.0  1.0  1.0  0.0  0.0  0.0\n",
       "110000  1.0  0.0  1.0  0.0  0.0  0.0\n",
       "001000  0.0  0.0  1.0  1.0  0.0  0.0\n",
       "...     ...  ...  ...  ...  ...  ...\n",
       "110111  0.0  0.0  1.0  1.0  0.0  0.0\n",
       "001111  1.0  0.0  1.0  0.0  0.0  0.0\n",
       "101111  0.0  1.0  1.0  0.0  0.0  0.0\n",
       "011111  1.0  1.0  0.0  0.0  0.0  0.0\n",
       "111111  0.0  0.0  0.0  0.0  0.0  0.0\n",
       "\n",
       "[64 rows x 6 columns]"
      ]
     },
     "execution_count": 4,
     "metadata": {},
     "output_type": "execute_result"
    }
   ],
   "source": [
    "net.tpm"
   ]
  },
  {
   "cell_type": "code",
   "execution_count": 5,
   "metadata": {},
   "outputs": [],
   "source": [
    "exp = Experiment([],\n",
    "    net=net,\n",
    "    title='High Phi in 6 nodes',\n",
    "    comment='From Larissas 2015 paperm https://www.mdpi.com/1099-4300/17/8/5472',\n",
    "    )"
   ]
  },
  {
   "cell_type": "code",
   "execution_count": 6,
   "metadata": {
    "scrolled": false
   },
   "outputs": [
    {
     "data": {
      "image/png": "[encoded data removed]",
      "text/plain": [
       "<IPython.core.display.Image object>"
      ]
     },
     "execution_count": 6,
     "metadata": {},
     "output_type": "execute_result"
    }
   ],
   "source": [
    "from IPython.display import Image\n",
    "net.gvgraph('hifi.png')\n",
    "Image(filename='hifi.png')"
   ]
  },
  {
   "cell_type": "code",
   "execution_count": 7,
   "metadata": {},
   "outputs": [
    {
     "data": {
      "text/plain": [
       "<phial.toolbox.Net at 0x7f47e3dfbe10>"
      ]
     },
     "execution_count": 7,
     "metadata": {},
     "output_type": "execute_result"
    },
    {
     "data": {
      "image/png": "[encoded data removed]",
      "text/plain": [
       "<Figure size 432x288 with 1 Axes>"
      ]
     },
     "metadata": {},
     "output_type": "display_data"
    }
   ],
   "source": [
    "net.draw()"
   ]
  },
  {
   "cell_type": "code",
   "execution_count": 8,
   "metadata": {
    "scrolled": true
   },
   "outputs": [
    {
     "name": "stderr",
     "output_type": "stream",
     "text": [
      "                                                                    "
     ]
    },
    {
     "name": "stdout",
     "output_type": "stream",
     "text": [
      "CPU times: user 1.35 s, sys: 142 ms, total: 1.49 s\n",
      "Wall time: 26.7 s\n"
     ]
    },
    {
     "name": "stderr",
     "output_type": "stream",
     "text": [
      "\r"
     ]
    },
    {
     "data": {
      "text/plain": [
       "20.906248"
      ]
     },
     "execution_count": 8,
     "metadata": {},
     "output_type": "execute_result"
    }
   ],
   "source": [
    "%time net.phi('000011')"
   ]
  },
  {
   "cell_type": "code",
   "execution_count": 9,
   "metadata": {},
   "outputs": [
    {
     "name": "stderr",
     "output_type": "stream",
     "text": [
      "                                                                    "
     ]
    },
    {
     "name": "stdout",
     "output_type": "stream",
     "text": [
      "Saved experiment with results to: /home/pothiers/phial/results_2020-05-14T19:06:03.412248.json\n"
     ]
    },
    {
     "name": "stderr",
     "output_type": "stream",
     "text": [
      "\r"
     ]
    },
    {
     "data": {
      "text/plain": [
       "{'timestamp': '2020-05-14 18:51:36.466003',\n",
       " 'duration': 866.9462428470142,\n",
       " 'results': {'010100': {'phi': 20.906248,\n",
       "   'elapsed_seconds': 27.224281032104045},\n",
       "  '111010': {'phi': 20.906248, 'elapsed_seconds': 27.155748130055144},\n",
       "  '011011': {'phi': 20.906248, 'elapsed_seconds': 27.80376386991702},\n",
       "  '010001': {'phi': 20.906248, 'elapsed_seconds': 28.17320519592613},\n",
       "  '000101': {'phi': 20.906248, 'elapsed_seconds': 27.164079393958673},\n",
       "  '001100': {'phi': 20.906248, 'elapsed_seconds': 27.025822300929576},\n",
       "  '000000': {'phi': 20.906248, 'elapsed_seconds': 26.85567217390053},\n",
       "  '110000': {'phi': 20.906248, 'elapsed_seconds': 26.70149145112373},\n",
       "  '011000': {'phi': 20.906248, 'elapsed_seconds': 26.782974147005007},\n",
       "  '110011': {'phi': 20.906248, 'elapsed_seconds': 26.626598831964657},\n",
       "  '101011': {'phi': 20.906248, 'elapsed_seconds': 26.44785192515701},\n",
       "  '011110': {'phi': 20.906248, 'elapsed_seconds': 26.70327465189621},\n",
       "  '001010': {'phi': 20.906248, 'elapsed_seconds': 26.669264680007473},\n",
       "  '101000': {'phi': 20.906248, 'elapsed_seconds': 26.614475493086502},\n",
       "  '000011': {'phi': 20.906248, 'elapsed_seconds': 27.008972470182925},\n",
       "  '111001': {'phi': 20.906248, 'elapsed_seconds': 26.93584851990454},\n",
       "  '110101': {'phi': 20.906248, 'elapsed_seconds': 27.424453112995252},\n",
       "  '100010': {'phi': 20.906248, 'elapsed_seconds': 27.42596494196914},\n",
       "  '011101': {'phi': 20.906248, 'elapsed_seconds': 27.200033352011815},\n",
       "  '001001': {'phi': 20.906248, 'elapsed_seconds': 27.001931196078658},\n",
       "  '010010': {'phi': 20.906248, 'elapsed_seconds': 27.588051200145856},\n",
       "  '010111': {'phi': 20.906248, 'elapsed_seconds': 27.62755997478962},\n",
       "  '000110': {'phi': 20.906248, 'elapsed_seconds': 26.832779205869883},\n",
       "  '101101': {'phi': 20.906248, 'elapsed_seconds': 27.843540978152305},\n",
       "  '001111': {'phi': 20.906248, 'elapsed_seconds': 27.316517981002107},\n",
       "  '100111': {'phi': 20.906248, 'elapsed_seconds': 26.872708251932636},\n",
       "  '111100': {'phi': 20.906248, 'elapsed_seconds': 26.909535335144028},\n",
       "  '111111': {'phi': 20.906248, 'elapsed_seconds': 26.910318529000506},\n",
       "  '110110': {'phi': 20.906248, 'elapsed_seconds': 26.7383431030903},\n",
       "  '100100': {'phi': 20.906248, 'elapsed_seconds': 27.046216320013627},\n",
       "  '101110': {'phi': 20.906248, 'elapsed_seconds': 27.010508734965697},\n",
       "  '100001': {'phi': 20.906248, 'elapsed_seconds': 27.29943373100832}},\n",
       " 'filename': None,\n",
       " 'uname': uname_result(system='Linux', node='chimp20', release='5.3.0-51-generic', version='#44~18.04.2-Ubuntu SMP Thu Apr 23 14:27:18 UTC 2020', machine='x86_64', processor='x86_64')}"
      ]
     },
     "execution_count": 9,
     "metadata": {},
     "output_type": "execute_result"
    }
   ],
   "source": [
    "exp.run()"
   ]
  },
  {
   "cell_type": "code",
   "execution_count": 10,
   "metadata": {
    "scrolled": true
   },
   "outputs": [
    {
     "data": {
      "text/plain": [
       "{'timestamp': '2020-05-14 18:51:36.466003',\n",
       " 'duration': 866.9462428470142,\n",
       " 'results': {'010100': {'phi': 20.906248,\n",
       "   'elapsed_seconds': 27.224281032104045},\n",
       "  '111010': {'phi': 20.906248, 'elapsed_seconds': 27.155748130055144},\n",
       "  '011011': {'phi': 20.906248, 'elapsed_seconds': 27.80376386991702},\n",
       "  '010001': {'phi': 20.906248, 'elapsed_seconds': 28.17320519592613},\n",
       "  '000101': {'phi': 20.906248, 'elapsed_seconds': 27.164079393958673},\n",
       "  '001100': {'phi': 20.906248, 'elapsed_seconds': 27.025822300929576},\n",
       "  '000000': {'phi': 20.906248, 'elapsed_seconds': 26.85567217390053},\n",
       "  '110000': {'phi': 20.906248, 'elapsed_seconds': 26.70149145112373},\n",
       "  '011000': {'phi': 20.906248, 'elapsed_seconds': 26.782974147005007},\n",
       "  '110011': {'phi': 20.906248, 'elapsed_seconds': 26.626598831964657},\n",
       "  '101011': {'phi': 20.906248, 'elapsed_seconds': 26.44785192515701},\n",
       "  '011110': {'phi': 20.906248, 'elapsed_seconds': 26.70327465189621},\n",
       "  '001010': {'phi': 20.906248, 'elapsed_seconds': 26.669264680007473},\n",
       "  '101000': {'phi': 20.906248, 'elapsed_seconds': 26.614475493086502},\n",
       "  '000011': {'phi': 20.906248, 'elapsed_seconds': 27.008972470182925},\n",
       "  '111001': {'phi': 20.906248, 'elapsed_seconds': 26.93584851990454},\n",
       "  '110101': {'phi': 20.906248, 'elapsed_seconds': 27.424453112995252},\n",
       "  '100010': {'phi': 20.906248, 'elapsed_seconds': 27.42596494196914},\n",
       "  '011101': {'phi': 20.906248, 'elapsed_seconds': 27.200033352011815},\n",
       "  '001001': {'phi': 20.906248, 'elapsed_seconds': 27.001931196078658},\n",
       "  '010010': {'phi': 20.906248, 'elapsed_seconds': 27.588051200145856},\n",
       "  '010111': {'phi': 20.906248, 'elapsed_seconds': 27.62755997478962},\n",
       "  '000110': {'phi': 20.906248, 'elapsed_seconds': 26.832779205869883},\n",
       "  '101101': {'phi': 20.906248, 'elapsed_seconds': 27.843540978152305},\n",
       "  '001111': {'phi': 20.906248, 'elapsed_seconds': 27.316517981002107},\n",
       "  '100111': {'phi': 20.906248, 'elapsed_seconds': 26.872708251932636},\n",
       "  '111100': {'phi': 20.906248, 'elapsed_seconds': 26.909535335144028},\n",
       "  '111111': {'phi': 20.906248, 'elapsed_seconds': 26.910318529000506},\n",
       "  '110110': {'phi': 20.906248, 'elapsed_seconds': 26.7383431030903},\n",
       "  '100100': {'phi': 20.906248, 'elapsed_seconds': 27.046216320013627},\n",
       "  '101110': {'phi': 20.906248, 'elapsed_seconds': 27.010508734965697},\n",
       "  '100001': {'phi': 20.906248, 'elapsed_seconds': 27.29943373100832}},\n",
       " 'filename': None,\n",
       " 'uname': uname_result(system='Linux', node='chimp20', release='5.3.0-51-generic', version='#44~18.04.2-Ubuntu SMP Thu Apr 23 14:27:18 UTC 2020', machine='x86_64', processor='x86_64')}"
      ]
     },
     "execution_count": 10,
     "metadata": {},
     "output_type": "execute_result"
    }
   ],
   "source": [
    "exp.info()"
   ]
  },
  {
   "cell_type": "code",
   "execution_count": 11,
   "metadata": {},
   "outputs": [
    {
     "data": {
      "text/plain": [
       "{'edges': [('A', 'A'),\n",
       "  ('A', 'B'),\n",
       "  ('A', 'F'),\n",
       "  ('B', 'A'),\n",
       "  ('B', 'B'),\n",
       "  ('B', 'C'),\n",
       "  ('C', 'B'),\n",
       "  ('C', 'C'),\n",
       "  ('C', 'D'),\n",
       "  ('D', 'C'),\n",
       "  ('D', 'D'),\n",
       "  ('D', 'E'),\n",
       "  ('E', 'D'),\n",
       "  ('E', 'E'),\n",
       "  ('E', 'F'),\n",
       "  ('F', 'A'),\n",
       "  ('F', 'E'),\n",
       "  ('F', 'F')],\n",
       " 'tpm': [('000000', '000000'),\n",
       "  ('100000', '110000'),\n",
       "  ('010000', '011000'),\n",
       "  ('110000', '101000'),\n",
       "  ('001000', '001100'),\n",
       "  ('101000', '111100'),\n",
       "  ('011000', '010100'),\n",
       "  ('111000', '100100'),\n",
       "  ('000100', '000110'),\n",
       "  ('100100', '110110'),\n",
       "  ('010100', '011110'),\n",
       "  ('110100', '101110'),\n",
       "  ('001100', '001010'),\n",
       "  ('101100', '111010'),\n",
       "  ('011100', '010010'),\n",
       "  ('111100', '100010'),\n",
       "  ('000010', '000011'),\n",
       "  ('100010', '110011'),\n",
       "  ('010010', '011011'),\n",
       "  ('110010', '101011'),\n",
       "  ('001010', '001111'),\n",
       "  ('101010', '111111'),\n",
       "  ('011010', '010111'),\n",
       "  ('111010', '100111'),\n",
       "  ('000110', '000101'),\n",
       "  ('100110', '110101'),\n",
       "  ('010110', '011101'),\n",
       "  ('110110', '101101'),\n",
       "  ('001110', '001001'),\n",
       "  ('101110', '111001'),\n",
       "  ('011110', '010001'),\n",
       "  ('111110', '100001'),\n",
       "  ('000001', '100001'),\n",
       "  ('100001', '010001'),\n",
       "  ('010001', '111001'),\n",
       "  ('110001', '001001'),\n",
       "  ('001001', '101101'),\n",
       "  ('101001', '011101'),\n",
       "  ('011001', '110101'),\n",
       "  ('111001', '000101'),\n",
       "  ('000101', '100111'),\n",
       "  ('100101', '010111'),\n",
       "  ('010101', '111111'),\n",
       "  ('110101', '001111'),\n",
       "  ('001101', '101011'),\n",
       "  ('101101', '011011'),\n",
       "  ('011101', '110011'),\n",
       "  ('111101', '000011'),\n",
       "  ('000011', '100010'),\n",
       "  ('100011', '010010'),\n",
       "  ('010011', '111010'),\n",
       "  ('110011', '001010'),\n",
       "  ('001011', '101110'),\n",
       "  ('101011', '011110'),\n",
       "  ('011011', '110110'),\n",
       "  ('111011', '000110'),\n",
       "  ('000111', '100100'),\n",
       "  ('100111', '010100'),\n",
       "  ('010111', '111100'),\n",
       "  ('110111', '001100'),\n",
       "  ('001111', '101000'),\n",
       "  ('101111', '011000'),\n",
       "  ('011111', '110000'),\n",
       "  ('111111', '000000')],\n",
       " 'nodes': [{'label': 'A', 'id': 0, 'num_states': 2, 'func': 'MJ'},\n",
       "  {'label': 'B', 'id': 1, 'num_states': 2, 'func': 'MJ'},\n",
       "  {'label': 'C', 'id': 2, 'num_states': 2, 'func': 'MJ'},\n",
       "  {'label': 'D', 'id': 3, 'num_states': 2, 'func': 'MJ'},\n",
       "  {'label': 'E', 'id': 4, 'num_states': 2, 'func': 'MJ'},\n",
       "  {'label': 'F', 'id': 5, 'num_states': 2, 'func': 'MJ'}]}"
      ]
     },
     "execution_count": 11,
     "metadata": {},
     "output_type": "execute_result"
    }
   ],
   "source": [
    "exp.net.to_json()"
   ]
  },
  {
   "cell_type": "code",
   "execution_count": 12,
   "metadata": {},
   "outputs": [
    {
     "ename": "JSONDecodeError",
     "evalue": "Expecting value: line 1 column 1 (char 0)",
     "output_type": "error",
     "traceback": [
      "---------------------------------------------------------------------------",
      "JSONDecodeError                           Traceback (most recent call last)",
      "<ipython-input-12-ca673ab3e38f> in <module>\n      1 net2 = tb.Net()\n----> 2 net2.from_json('../examples/hi-fi.json')\n",
      "~/sandbox/phial/phial/toolbox.py in from_json(self, jsonstr, func, SpN)\n    157                   SpN=2):\n    158         self.graph = self.node_lut = self.tpm = None\n--> 159         jdict = json.loads(jsonstr)\n    160         edges = jdict.get('edges',[])\n    161         i,j = zip(*edges)\n",
      "/usr/lib/python3.6/json/__init__.py in loads(s, encoding, cls, object_hook, parse_float, parse_int, parse_constant, object_pairs_hook, **kw)\n    352             parse_int is None and parse_float is None and\n    353             parse_constant is None and object_pairs_hook is None and not kw):\n--> 354         return _default_decoder.decode(s)\n    355     if cls is None:\n    356         cls = JSONDecoder\n",
      "/usr/lib/python3.6/json/decoder.py in decode(self, s, _w)\n    337 \n    338         \"\"\"\n--> 339         obj, end = self.raw_decode(s, idx=_w(s, 0).end())\n    340         end = _w(s, end).end()\n    341         if end != len(s):\n",
      "/usr/lib/python3.6/json/decoder.py in raw_decode(self, s, idx)\n    355             obj, end = self.scan_once(s, idx)\n    356         except StopIteration as err:\n--> 357             raise JSONDecodeError(\"Expecting value\", s, err.value) from None\n    358         return obj, end\n",
      "JSONDecodeError: Expecting value: line 1 column 1 (char 0)"
     ]
    }
   ],
   "source": [
    "net2 = tb.Net()\n",
    "net2.from_json('../examples/hi-fi.json')"
   ]
  },
  {
   "cell_type": "code",
   "execution_count": null,
   "metadata": {},
   "outputs": [],
   "source": [
    "ls ../examples"
   ]
  },
  {
   "cell_type": "code",
   "execution_count": null,
   "metadata": {},
   "outputs": [],
   "source": [
    "import pyphi.convert\n",
    "import pandas as pd\n",
    "tpm_sbs = pyphi.convert.state_by_node2state_by_state(tpm)\n",
    "states = tb.all_states(len(net), backwards=True)\n",
    "tpm_df = pd.DataFrame(tpm_sbs, index=states, columns=states)\n",
    "tpm_df\n",
    "S = nx.DiGraph(tpm_df)\n",
    "nx.draw(S, pos=pydot_layout(S), with_labels=True)"
   ]
  },
  {
   "cell_type": "code",
   "execution_count": null,
   "metadata": {},
   "outputs": [],
   "source": [
    "[i for i,j in S.edges() if i==j]"
   ]
  },
  {
   "cell_type": "code",
   "execution_count": null,
   "metadata": {},
   "outputs": [],
   "source": [
    "len(exp.net.unreachable_states)"
   ]
  },
  {
   "cell_type": "code",
   "execution_count": null,
   "metadata": {},
   "outputs": [],
   "source": [
    "len(exp.net.in_states)"
   ]
  },
  {
   "cell_type": "code",
   "execution_count": null,
   "metadata": {},
   "outputs": [],
   "source": [
    "exp.net.out_states"
   ]
  },
  {
   "cell_type": "code",
   "execution_count": null,
   "metadata": {},
   "outputs": [],
   "source": [
    "nx.number_weakly_connected_components(S)"
   ]
  },
  {
   "cell_type": "code",
   "execution_count": null,
   "metadata": {
    "scrolled": true
   },
   "outputs": [],
   "source": [
    "list(nx.simple_cycles(S))"
   ]
  },
  {
   "cell_type": "code",
   "execution_count": null,
   "metadata": {},
   "outputs": [],
   "source": [
    "net.info()"
   ]
  },
  {
   "cell_type": "code",
   "execution_count": null,
   "metadata": {},
   "outputs": [],
   "source": [
    "import datetime\n",
    "elapsed = toc()  # Seconds since start of Notebook load (assuming fresh run)\n",
    "print(f'Elapsed seconds={elapsed}')\n",
    "print(f'Completed on: {str(datetime.datetime.now())}')"
   ]
  }
 ],
 "metadata": {
  "kernelspec": {
   "display_name": "Python 3",
   "language": "python",
   "name": "python3"
  },
  "language_info": {
   "codemirror_mode": {
    "name": "ipython",
    "version": 3
   },
   "file_extension": ".py",
   "mimetype": "text/x-python",
   "name": "python",
   "nbconvert_exporter": "python",
   "pygments_lexer": "ipython3",
   "version": "3.6.9"
  }
 },
 "nbformat": 4,
 "nbformat_minor": 4
}
