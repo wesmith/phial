{
 "cells": [
  {
   "cell_type": "markdown",
   "metadata": {},
   "source": [
    "## random_node.ipynb\n",
    "### WESmith 05/09/20"
   ]
  },
  {
   "cell_type": "code",
   "execution_count": 1,
   "metadata": {},
   "outputs": [],
   "source": [
    "import pandas as pd\n",
    "import numpy  as np\n",
    "import itertools as it"
   ]
  },
  {
   "cell_type": "code",
   "execution_count": 52,
   "metadata": {},
   "outputs": [],
   "source": [
    "class RandomNode():\n",
    "    def __init__(self, N, num_exp, name):\n",
    "        self.N = N\n",
    "        self.num_experiments = num_exp\n",
    "        self.name = name\n",
    "        LUT = []\n",
    "        for k in range(num_exp):\n",
    "            nn = np.random.randint(0,2,size=N+1)\n",
    "            LUT.append([nn[sum(k)] for k in it.product([0,1], repeat=N)])\n",
    "        self.lut = np.array(LUT).T\n",
    "        \n",
    "    def __call__(self, inputs, n):\n",
    "        # inputs is an N-tuple of 1's, 0's\n",
    "        # n is the experiment number: a different LUT column per experiment\n",
    "        indx = int(\"\".join(str(x) for x in inputs), base=2) \n",
    "        return self.lut[indx, n]"
   ]
  },
  {
   "cell_type": "code",
   "execution_count": 53,
   "metadata": {},
   "outputs": [],
   "source": [
    "def test_func2(fun, N, M):\n",
    "    return pd.DataFrame([(k, (fun(k, M))) for k in it.product([0,1], repeat=N)])"
   ]
  },
  {
   "cell_type": "code",
   "execution_count": 62,
   "metadata": {},
   "outputs": [],
   "source": [
    "N = 5\n",
    "node = RandomNode(N, 10, 'A') # M = 10 means 10 experiments are planned"
   ]
  },
  {
   "cell_type": "code",
   "execution_count": 63,
   "metadata": {},
   "outputs": [
    {
     "name": "stdout",
     "output_type": "stream",
     "text": [
      "                  0  1\n",
      "0   (0, 0, 0, 0, 0)  0\n",
      "1   (0, 0, 0, 0, 1)  1\n",
      "2   (0, 0, 0, 1, 0)  1\n",
      "3   (0, 0, 0, 1, 1)  1\n",
      "4   (0, 0, 1, 0, 0)  1\n",
      "5   (0, 0, 1, 0, 1)  1\n",
      "6   (0, 0, 1, 1, 0)  1\n",
      "7   (0, 0, 1, 1, 1)  0\n",
      "8   (0, 1, 0, 0, 0)  1\n",
      "9   (0, 1, 0, 0, 1)  1\n",
      "10  (0, 1, 0, 1, 0)  1\n",
      "11  (0, 1, 0, 1, 1)  0\n",
      "12  (0, 1, 1, 0, 0)  1\n",
      "13  (0, 1, 1, 0, 1)  0\n",
      "14  (0, 1, 1, 1, 0)  0\n",
      "15  (0, 1, 1, 1, 1)  1\n",
      "16  (1, 0, 0, 0, 0)  1\n",
      "17  (1, 0, 0, 0, 1)  1\n",
      "18  (1, 0, 0, 1, 0)  1\n",
      "19  (1, 0, 0, 1, 1)  0\n",
      "20  (1, 0, 1, 0, 0)  1\n",
      "21  (1, 0, 1, 0, 1)  0\n",
      "22  (1, 0, 1, 1, 0)  0\n",
      "23  (1, 0, 1, 1, 1)  1\n",
      "24  (1, 1, 0, 0, 0)  1\n",
      "25  (1, 1, 0, 0, 1)  0\n",
      "26  (1, 1, 0, 1, 0)  0\n",
      "27  (1, 1, 0, 1, 1)  1\n",
      "28  (1, 1, 1, 0, 0)  0\n",
      "29  (1, 1, 1, 0, 1)  1\n",
      "30  (1, 1, 1, 1, 0)  1\n",
      "31  (1, 1, 1, 1, 1)  1\n"
     ]
    }
   ],
   "source": [
    "M = 0 # experiment 0\n",
    "print (test_func2(node, N, M))"
   ]
  },
  {
   "cell_type": "code",
   "execution_count": 64,
   "metadata": {},
   "outputs": [
    {
     "data": {
      "text/plain": [
       "array([[0, 0, 1, 0, 1, 0, 0, 0, 1, 0],\n",
       "       [1, 1, 0, 1, 1, 0, 0, 1, 0, 1],\n",
       "       [1, 1, 0, 1, 1, 0, 0, 1, 0, 1],\n",
       "       [1, 0, 1, 1, 0, 1, 1, 1, 0, 1],\n",
       "       [1, 1, 0, 1, 1, 0, 0, 1, 0, 1],\n",
       "       [1, 0, 1, 1, 0, 1, 1, 1, 0, 1],\n",
       "       [1, 0, 1, 1, 0, 1, 1, 1, 0, 1],\n",
       "       [0, 0, 0, 0, 0, 1, 0, 0, 1, 1],\n",
       "       [1, 1, 0, 1, 1, 0, 0, 1, 0, 1],\n",
       "       [1, 0, 1, 1, 0, 1, 1, 1, 0, 1],\n",
       "       [1, 0, 1, 1, 0, 1, 1, 1, 0, 1],\n",
       "       [0, 0, 0, 0, 0, 1, 0, 0, 1, 1],\n",
       "       [1, 0, 1, 1, 0, 1, 1, 1, 0, 1],\n",
       "       [0, 0, 0, 0, 0, 1, 0, 0, 1, 1],\n",
       "       [0, 0, 0, 0, 0, 1, 0, 0, 1, 1],\n",
       "       [1, 0, 0, 0, 1, 0, 1, 0, 1, 1],\n",
       "       [1, 1, 0, 1, 1, 0, 0, 1, 0, 1],\n",
       "       [1, 0, 1, 1, 0, 1, 1, 1, 0, 1],\n",
       "       [1, 0, 1, 1, 0, 1, 1, 1, 0, 1],\n",
       "       [0, 0, 0, 0, 0, 1, 0, 0, 1, 1],\n",
       "       [1, 0, 1, 1, 0, 1, 1, 1, 0, 1],\n",
       "       [0, 0, 0, 0, 0, 1, 0, 0, 1, 1],\n",
       "       [0, 0, 0, 0, 0, 1, 0, 0, 1, 1],\n",
       "       [1, 0, 0, 0, 1, 0, 1, 0, 1, 1],\n",
       "       [1, 0, 1, 1, 0, 1, 1, 1, 0, 1],\n",
       "       [0, 0, 0, 0, 0, 1, 0, 0, 1, 1],\n",
       "       [0, 0, 0, 0, 0, 1, 0, 0, 1, 1],\n",
       "       [1, 0, 0, 0, 1, 0, 1, 0, 1, 1],\n",
       "       [0, 0, 0, 0, 0, 1, 0, 0, 1, 1],\n",
       "       [1, 0, 0, 0, 1, 0, 1, 0, 1, 1],\n",
       "       [1, 0, 0, 0, 1, 0, 1, 0, 1, 1],\n",
       "       [1, 1, 1, 1, 0, 1, 1, 0, 0, 0]])"
      ]
     },
     "execution_count": 64,
     "metadata": {},
     "output_type": "execute_result"
    }
   ],
   "source": [
    "node.lut"
   ]
  }
 ],
 "metadata": {
  "kernelspec": {
   "display_name": "Python 3",
   "language": "python",
   "name": "python3"
  },
  "language_info": {
   "codemirror_mode": {
    "name": "ipython",
    "version": 3
   },
   "file_extension": ".py",
   "mimetype": "text/x-python",
   "name": "python",
   "nbconvert_exporter": "python",
   "pygments_lexer": "ipython3",
   "version": "3.6.9"
  }
 },
 "nbformat": 4,
 "nbformat_minor": 4
}
