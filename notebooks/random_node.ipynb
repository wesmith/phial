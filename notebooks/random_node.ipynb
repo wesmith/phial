{
 "cells": [
  {
   "cell_type": "markdown",
   "metadata": {},
   "source": [
    "## random_node.ipynb\n",
    "### WESmith 05/09/20"
   ]
  },
  {
   "cell_type": "code",
   "execution_count": 40,
   "metadata": {},
   "outputs": [],
   "source": [
    "import pandas as pd\n",
    "import numpy  as np\n",
    "import itertools as it"
   ]
  },
  {
   "cell_type": "code",
   "execution_count": 43,
   "metadata": {},
   "outputs": [],
   "source": [
    "class RandomNode():\n",
    "    def __init__(self, N, num_exp, name):\n",
    "        self.N = N\n",
    "        self.num_experiments = num_exp\n",
    "        self.name = name\n",
    "        self.lut = np.random.randint(0, 2, size=[2**N, num_exp])\n",
    "        \n",
    "    def __call__(self, inputs, n):\n",
    "        # inputs is an N-tuple of 1's, 0's\n",
    "        # n is the experiment number: a different LUT column per experiment\n",
    "        indx = int(\"\".join(str(x) for x in inputs), base=2) \n",
    "        return self.lut[indx, n]"
   ]
  },
  {
   "cell_type": "code",
   "execution_count": 44,
   "metadata": {},
   "outputs": [],
   "source": [
    "def test_func2(fun, N, M):\n",
    "    return pd.DataFrame([(k, (fun(k, M))) for k in it.product([0,1], repeat=N)])"
   ]
  },
  {
   "cell_type": "code",
   "execution_count": 51,
   "metadata": {},
   "outputs": [],
   "source": [
    "N = 4\n",
    "node = RandomNode(N, 10, 'A') # M = 10 means 10 experiments are planned"
   ]
  },
  {
   "cell_type": "code",
   "execution_count": 52,
   "metadata": {},
   "outputs": [
    {
     "name": "stdout",
     "output_type": "stream",
     "text": [
      "               0  1\n",
      "0   (0, 0, 0, 0)  1\n",
      "1   (0, 0, 0, 1)  1\n",
      "2   (0, 0, 1, 0)  0\n",
      "3   (0, 0, 1, 1)  0\n",
      "4   (0, 1, 0, 0)  0\n",
      "5   (0, 1, 0, 1)  1\n",
      "6   (0, 1, 1, 0)  0\n",
      "7   (0, 1, 1, 1)  1\n",
      "8   (1, 0, 0, 0)  0\n",
      "9   (1, 0, 0, 1)  0\n",
      "10  (1, 0, 1, 0)  1\n",
      "11  (1, 0, 1, 1)  1\n",
      "12  (1, 1, 0, 0)  1\n",
      "13  (1, 1, 0, 1)  0\n",
      "14  (1, 1, 1, 0)  1\n",
      "15  (1, 1, 1, 1)  1\n"
     ]
    }
   ],
   "source": [
    "M = 0 # experiment 0\n",
    "print (test_func2(node, N, M))"
   ]
  },
  {
   "cell_type": "code",
   "execution_count": 53,
   "metadata": {},
   "outputs": [
    {
     "name": "stdout",
     "output_type": "stream",
     "text": [
      "               0  1\n",
      "0   (0, 0, 0, 0)  1\n",
      "1   (0, 0, 0, 1)  0\n",
      "2   (0, 0, 1, 0)  1\n",
      "3   (0, 0, 1, 1)  0\n",
      "4   (0, 1, 0, 0)  1\n",
      "5   (0, 1, 0, 1)  1\n",
      "6   (0, 1, 1, 0)  0\n",
      "7   (0, 1, 1, 1)  0\n",
      "8   (1, 0, 0, 0)  0\n",
      "9   (1, 0, 0, 1)  1\n",
      "10  (1, 0, 1, 0)  0\n",
      "11  (1, 0, 1, 1)  1\n",
      "12  (1, 1, 0, 0)  0\n",
      "13  (1, 1, 0, 1)  0\n",
      "14  (1, 1, 1, 0)  0\n",
      "15  (1, 1, 1, 1)  1\n"
     ]
    }
   ],
   "source": [
    "M = 1 # experiment 1\n",
    "print (test_func2(node, N, M))"
   ]
  },
  {
   "cell_type": "code",
   "execution_count": 54,
   "metadata": {},
   "outputs": [
    {
     "name": "stdout",
     "output_type": "stream",
     "text": [
      "               0  1\n",
      "0   (0, 0, 0, 0)  0\n",
      "1   (0, 0, 0, 1)  1\n",
      "2   (0, 0, 1, 0)  0\n",
      "3   (0, 0, 1, 1)  0\n",
      "4   (0, 1, 0, 0)  0\n",
      "5   (0, 1, 0, 1)  0\n",
      "6   (0, 1, 1, 0)  1\n",
      "7   (0, 1, 1, 1)  1\n",
      "8   (1, 0, 0, 0)  0\n",
      "9   (1, 0, 0, 1)  0\n",
      "10  (1, 0, 1, 0)  0\n",
      "11  (1, 0, 1, 1)  1\n",
      "12  (1, 1, 0, 0)  0\n",
      "13  (1, 1, 0, 1)  1\n",
      "14  (1, 1, 1, 0)  0\n",
      "15  (1, 1, 1, 1)  1\n"
     ]
    }
   ],
   "source": [
    "M = 2 # experiment 2\n",
    "print (test_func2(node, N, M))"
   ]
  },
  {
   "cell_type": "code",
   "execution_count": null,
   "metadata": {},
   "outputs": [],
   "source": []
  }
 ],
 "metadata": {
  "kernelspec": {
   "display_name": "Python 3",
   "language": "python",
   "name": "python3"
  },
  "language_info": {
   "codemirror_mode": {
    "name": "ipython",
    "version": 3
   },
   "file_extension": ".py",
   "mimetype": "text/x-python",
   "name": "python",
   "nbconvert_exporter": "python",
   "pygments_lexer": "ipython3",
   "version": "3.6.9"
  }
 },
 "nbformat": 4,
 "nbformat_minor": 4
}
