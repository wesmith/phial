{
 "cells": [
  {
   "cell_type": "markdown",
   "metadata": {},
   "source": [
    "## random_node.ipynb\n",
    "### WESmith 05/09/20"
   ]
  },
  {
   "cell_type": "code",
   "execution_count": 1,
   "metadata": {},
   "outputs": [],
   "source": [
    "import pandas as pd\n",
    "import numpy  as np\n",
    "import itertools as it"
   ]
  },
  {
   "cell_type": "code",
   "execution_count": 91,
   "metadata": {},
   "outputs": [],
   "source": [
    "class RandomNode():\n",
    "    def __init__(self, N, num_exp, name):\n",
    "        self.N = N\n",
    "        self.num_experiments = num_exp\n",
    "        self.name = name\n",
    "        LUT = []\n",
    "        for k in range(num_exp):\n",
    "            nn = np.random.randint(0,2,size=N+1)\n",
    "            LUT.append([nn[sum(k)] for k in it.product([0,1], repeat=N)])\n",
    "        self.lut = np.array(LUT).T\n",
    "        \n",
    "    def __call__(self, n):\n",
    "        # n is the experiment number: a different LUT column per experiment\n",
    "        def node(inputs):\n",
    "            indx = int(\"\".join(str(x) for x in inputs), base=2)\n",
    "            return self.lut[indx, n]\n",
    "        return node"
   ]
  },
  {
   "cell_type": "code",
   "execution_count": 161,
   "metadata": {},
   "outputs": [],
   "source": [
    "class AllPerms():\n",
    "    # create a node set with all possible binary responses\n",
    "    def __init__(self, N, name=''):\n",
    "        # N is the maximum number of inputs to the node: the result will handle inputs <= N\n",
    "        self.N = N\n",
    "        self.permutations = 2**(N+1)\n",
    "        self.name = name\n",
    "        LUT = []\n",
    "        for k in range(self.permutations):\n",
    "            nn = [int(i) for i in list('{0:016b}'.format(k))]\n",
    "            nn.reverse()\n",
    "            LUT.append([nn[sum(k)] for k in it.product([0,1], repeat=N)])\n",
    "        self.lut = np.array(LUT).T\n",
    "\n",
    "    def __call__(self, n):\n",
    "        # n is the experiment number: a different LUT column is used per experiment\n",
    "        def node(inputs):\n",
    "            # inputs is a binary tuple of node inputs, must be <= N used to define the object\n",
    "            indx = int(\"\".join(str(x) for x in inputs), base=2)\n",
    "            return self.lut[indx, n]\n",
    "        return node"
   ]
  },
  {
   "cell_type": "code",
   "execution_count": 92,
   "metadata": {},
   "outputs": [],
   "source": [
    "def test_func(fun, N):\n",
    "    return pd.DataFrame([(k, (fun(k))) for k in it.product([0,1], repeat=N)])"
   ]
  },
  {
   "cell_type": "code",
   "execution_count": 167,
   "metadata": {},
   "outputs": [],
   "source": [
    "N = 3\n",
    "node_group = AllPerms(N)"
   ]
  },
  {
   "cell_type": "code",
   "execution_count": 168,
   "metadata": {},
   "outputs": [
    {
     "data": {
      "text/plain": [
       "array([[0, 1, 0, 1, 0, 1, 0, 1, 0, 1, 0, 1, 0, 1, 0, 1],\n",
       "       [0, 0, 1, 1, 0, 0, 1, 1, 0, 0, 1, 1, 0, 0, 1, 1],\n",
       "       [0, 0, 1, 1, 0, 0, 1, 1, 0, 0, 1, 1, 0, 0, 1, 1],\n",
       "       [0, 0, 0, 0, 1, 1, 1, 1, 0, 0, 0, 0, 1, 1, 1, 1],\n",
       "       [0, 0, 1, 1, 0, 0, 1, 1, 0, 0, 1, 1, 0, 0, 1, 1],\n",
       "       [0, 0, 0, 0, 1, 1, 1, 1, 0, 0, 0, 0, 1, 1, 1, 1],\n",
       "       [0, 0, 0, 0, 1, 1, 1, 1, 0, 0, 0, 0, 1, 1, 1, 1],\n",
       "       [0, 0, 0, 0, 0, 0, 0, 0, 1, 1, 1, 1, 1, 1, 1, 1]])"
      ]
     },
     "execution_count": 168,
     "metadata": {},
     "output_type": "execute_result"
    }
   ],
   "source": [
    "node_group.lut"
   ]
  },
  {
   "cell_type": "code",
   "execution_count": 169,
   "metadata": {
    "scrolled": false
   },
   "outputs": [
    {
     "name": "stdout",
     "output_type": "stream",
     "text": [
      "           0  1\n",
      "0  (0, 0, 0)  0\n",
      "1  (0, 0, 1)  0\n",
      "2  (0, 1, 0)  0\n",
      "3  (0, 1, 1)  0\n",
      "4  (1, 0, 0)  0\n",
      "5  (1, 0, 1)  0\n",
      "6  (1, 1, 0)  0\n",
      "7  (1, 1, 1)  0\n",
      "           0  1\n",
      "0  (0, 0, 0)  1\n",
      "1  (0, 0, 1)  0\n",
      "2  (0, 1, 0)  0\n",
      "3  (0, 1, 1)  0\n",
      "4  (1, 0, 0)  0\n",
      "5  (1, 0, 1)  0\n",
      "6  (1, 1, 0)  0\n",
      "7  (1, 1, 1)  0\n",
      "           0  1\n",
      "0  (0, 0, 0)  0\n",
      "1  (0, 0, 1)  1\n",
      "2  (0, 1, 0)  1\n",
      "3  (0, 1, 1)  0\n",
      "4  (1, 0, 0)  1\n",
      "5  (1, 0, 1)  0\n",
      "6  (1, 1, 0)  0\n",
      "7  (1, 1, 1)  0\n",
      "           0  1\n",
      "0  (0, 0, 0)  1\n",
      "1  (0, 0, 1)  1\n",
      "2  (0, 1, 0)  1\n",
      "3  (0, 1, 1)  0\n",
      "4  (1, 0, 0)  1\n",
      "5  (1, 0, 1)  0\n",
      "6  (1, 1, 0)  0\n",
      "7  (1, 1, 1)  0\n",
      "           0  1\n",
      "0  (0, 0, 0)  0\n",
      "1  (0, 0, 1)  0\n",
      "2  (0, 1, 0)  0\n",
      "3  (0, 1, 1)  1\n",
      "4  (1, 0, 0)  0\n",
      "5  (1, 0, 1)  1\n",
      "6  (1, 1, 0)  1\n",
      "7  (1, 1, 1)  0\n",
      "           0  1\n",
      "0  (0, 0, 0)  1\n",
      "1  (0, 0, 1)  0\n",
      "2  (0, 1, 0)  0\n",
      "3  (0, 1, 1)  1\n",
      "4  (1, 0, 0)  0\n",
      "5  (1, 0, 1)  1\n",
      "6  (1, 1, 0)  1\n",
      "7  (1, 1, 1)  0\n",
      "           0  1\n",
      "0  (0, 0, 0)  0\n",
      "1  (0, 0, 1)  1\n",
      "2  (0, 1, 0)  1\n",
      "3  (0, 1, 1)  1\n",
      "4  (1, 0, 0)  1\n",
      "5  (1, 0, 1)  1\n",
      "6  (1, 1, 0)  1\n",
      "7  (1, 1, 1)  0\n",
      "           0  1\n",
      "0  (0, 0, 0)  1\n",
      "1  (0, 0, 1)  1\n",
      "2  (0, 1, 0)  1\n",
      "3  (0, 1, 1)  1\n",
      "4  (1, 0, 0)  1\n",
      "5  (1, 0, 1)  1\n",
      "6  (1, 1, 0)  1\n",
      "7  (1, 1, 1)  0\n",
      "           0  1\n",
      "0  (0, 0, 0)  0\n",
      "1  (0, 0, 1)  0\n",
      "2  (0, 1, 0)  0\n",
      "3  (0, 1, 1)  0\n",
      "4  (1, 0, 0)  0\n",
      "5  (1, 0, 1)  0\n",
      "6  (1, 1, 0)  0\n",
      "7  (1, 1, 1)  1\n",
      "           0  1\n",
      "0  (0, 0, 0)  1\n",
      "1  (0, 0, 1)  0\n",
      "2  (0, 1, 0)  0\n",
      "3  (0, 1, 1)  0\n",
      "4  (1, 0, 0)  0\n",
      "5  (1, 0, 1)  0\n",
      "6  (1, 1, 0)  0\n",
      "7  (1, 1, 1)  1\n",
      "           0  1\n",
      "0  (0, 0, 0)  0\n",
      "1  (0, 0, 1)  1\n",
      "2  (0, 1, 0)  1\n",
      "3  (0, 1, 1)  0\n",
      "4  (1, 0, 0)  1\n",
      "5  (1, 0, 1)  0\n",
      "6  (1, 1, 0)  0\n",
      "7  (1, 1, 1)  1\n",
      "           0  1\n",
      "0  (0, 0, 0)  1\n",
      "1  (0, 0, 1)  1\n",
      "2  (0, 1, 0)  1\n",
      "3  (0, 1, 1)  0\n",
      "4  (1, 0, 0)  1\n",
      "5  (1, 0, 1)  0\n",
      "6  (1, 1, 0)  0\n",
      "7  (1, 1, 1)  1\n",
      "           0  1\n",
      "0  (0, 0, 0)  0\n",
      "1  (0, 0, 1)  0\n",
      "2  (0, 1, 0)  0\n",
      "3  (0, 1, 1)  1\n",
      "4  (1, 0, 0)  0\n",
      "5  (1, 0, 1)  1\n",
      "6  (1, 1, 0)  1\n",
      "7  (1, 1, 1)  1\n",
      "           0  1\n",
      "0  (0, 0, 0)  1\n",
      "1  (0, 0, 1)  0\n",
      "2  (0, 1, 0)  0\n",
      "3  (0, 1, 1)  1\n",
      "4  (1, 0, 0)  0\n",
      "5  (1, 0, 1)  1\n",
      "6  (1, 1, 0)  1\n",
      "7  (1, 1, 1)  1\n",
      "           0  1\n",
      "0  (0, 0, 0)  0\n",
      "1  (0, 0, 1)  1\n",
      "2  (0, 1, 0)  1\n",
      "3  (0, 1, 1)  1\n",
      "4  (1, 0, 0)  1\n",
      "5  (1, 0, 1)  1\n",
      "6  (1, 1, 0)  1\n",
      "7  (1, 1, 1)  1\n",
      "           0  1\n",
      "0  (0, 0, 0)  1\n",
      "1  (0, 0, 1)  1\n",
      "2  (0, 1, 0)  1\n",
      "3  (0, 1, 1)  1\n",
      "4  (1, 0, 0)  1\n",
      "5  (1, 0, 1)  1\n",
      "6  (1, 1, 0)  1\n",
      "7  (1, 1, 1)  1\n"
     ]
    }
   ],
   "source": [
    "for k in range(node_group.permutations):\n",
    "    node = node_group(k)\n",
    "    print(test_func(node, node_group.N))"
   ]
  },
  {
   "cell_type": "code",
   "execution_count": 171,
   "metadata": {},
   "outputs": [
    {
     "name": "stdout",
     "output_type": "stream",
     "text": [
      "        0  1\n",
      "0  (0, 0)  0\n",
      "1  (0, 1)  0\n",
      "2  (1, 0)  0\n",
      "3  (1, 1)  0\n",
      "        0  1\n",
      "0  (0, 0)  1\n",
      "1  (0, 1)  0\n",
      "2  (1, 0)  0\n",
      "3  (1, 1)  0\n",
      "        0  1\n",
      "0  (0, 0)  0\n",
      "1  (0, 1)  1\n",
      "2  (1, 0)  1\n",
      "3  (1, 1)  0\n",
      "        0  1\n",
      "0  (0, 0)  1\n",
      "1  (0, 1)  1\n",
      "2  (1, 0)  1\n",
      "3  (1, 1)  0\n",
      "        0  1\n",
      "0  (0, 0)  0\n",
      "1  (0, 1)  0\n",
      "2  (1, 0)  0\n",
      "3  (1, 1)  1\n",
      "        0  1\n",
      "0  (0, 0)  1\n",
      "1  (0, 1)  0\n",
      "2  (1, 0)  0\n",
      "3  (1, 1)  1\n",
      "        0  1\n",
      "0  (0, 0)  0\n",
      "1  (0, 1)  1\n",
      "2  (1, 0)  1\n",
      "3  (1, 1)  1\n",
      "        0  1\n",
      "0  (0, 0)  1\n",
      "1  (0, 1)  1\n",
      "2  (1, 0)  1\n",
      "3  (1, 1)  1\n"
     ]
    }
   ],
   "source": [
    "# demo that same node group can be used for number of inputs smaller than those used to define the node_group\n",
    "N = 2 # node_group was defined for N = 3\n",
    "for k in range(2**(N+1)):\n",
    "    node = node_group(k)\n",
    "    print(test_func(node, N))"
   ]
  },
  {
   "cell_type": "code",
   "execution_count": 172,
   "metadata": {},
   "outputs": [
    {
     "data": {
      "text/plain": [
       "array([[0, 1, 0, 1, 0, 1, 0, 1, 0, 1, 0, 1, 0, 1, 0, 1, 0, 1, 0, 1, 0, 1,\n",
       "        0, 1, 0, 1, 0, 1, 0, 1, 0, 1],\n",
       "       [0, 0, 1, 1, 0, 0, 1, 1, 0, 0, 1, 1, 0, 0, 1, 1, 0, 0, 1, 1, 0, 0,\n",
       "        1, 1, 0, 0, 1, 1, 0, 0, 1, 1],\n",
       "       [0, 0, 1, 1, 0, 0, 1, 1, 0, 0, 1, 1, 0, 0, 1, 1, 0, 0, 1, 1, 0, 0,\n",
       "        1, 1, 0, 0, 1, 1, 0, 0, 1, 1],\n",
       "       [0, 0, 0, 0, 1, 1, 1, 1, 0, 0, 0, 0, 1, 1, 1, 1, 0, 0, 0, 0, 1, 1,\n",
       "        1, 1, 0, 0, 0, 0, 1, 1, 1, 1],\n",
       "       [0, 0, 1, 1, 0, 0, 1, 1, 0, 0, 1, 1, 0, 0, 1, 1, 0, 0, 1, 1, 0, 0,\n",
       "        1, 1, 0, 0, 1, 1, 0, 0, 1, 1],\n",
       "       [0, 0, 0, 0, 1, 1, 1, 1, 0, 0, 0, 0, 1, 1, 1, 1, 0, 0, 0, 0, 1, 1,\n",
       "        1, 1, 0, 0, 0, 0, 1, 1, 1, 1],\n",
       "       [0, 0, 0, 0, 1, 1, 1, 1, 0, 0, 0, 0, 1, 1, 1, 1, 0, 0, 0, 0, 1, 1,\n",
       "        1, 1, 0, 0, 0, 0, 1, 1, 1, 1],\n",
       "       [0, 0, 0, 0, 0, 0, 0, 0, 1, 1, 1, 1, 1, 1, 1, 1, 0, 0, 0, 0, 0, 0,\n",
       "        0, 0, 1, 1, 1, 1, 1, 1, 1, 1],\n",
       "       [0, 0, 1, 1, 0, 0, 1, 1, 0, 0, 1, 1, 0, 0, 1, 1, 0, 0, 1, 1, 0, 0,\n",
       "        1, 1, 0, 0, 1, 1, 0, 0, 1, 1],\n",
       "       [0, 0, 0, 0, 1, 1, 1, 1, 0, 0, 0, 0, 1, 1, 1, 1, 0, 0, 0, 0, 1, 1,\n",
       "        1, 1, 0, 0, 0, 0, 1, 1, 1, 1],\n",
       "       [0, 0, 0, 0, 1, 1, 1, 1, 0, 0, 0, 0, 1, 1, 1, 1, 0, 0, 0, 0, 1, 1,\n",
       "        1, 1, 0, 0, 0, 0, 1, 1, 1, 1],\n",
       "       [0, 0, 0, 0, 0, 0, 0, 0, 1, 1, 1, 1, 1, 1, 1, 1, 0, 0, 0, 0, 0, 0,\n",
       "        0, 0, 1, 1, 1, 1, 1, 1, 1, 1],\n",
       "       [0, 0, 0, 0, 1, 1, 1, 1, 0, 0, 0, 0, 1, 1, 1, 1, 0, 0, 0, 0, 1, 1,\n",
       "        1, 1, 0, 0, 0, 0, 1, 1, 1, 1],\n",
       "       [0, 0, 0, 0, 0, 0, 0, 0, 1, 1, 1, 1, 1, 1, 1, 1, 0, 0, 0, 0, 0, 0,\n",
       "        0, 0, 1, 1, 1, 1, 1, 1, 1, 1],\n",
       "       [0, 0, 0, 0, 0, 0, 0, 0, 1, 1, 1, 1, 1, 1, 1, 1, 0, 0, 0, 0, 0, 0,\n",
       "        0, 0, 1, 1, 1, 1, 1, 1, 1, 1],\n",
       "       [0, 0, 0, 0, 0, 0, 0, 0, 0, 0, 0, 0, 0, 0, 0, 0, 1, 1, 1, 1, 1, 1,\n",
       "        1, 1, 1, 1, 1, 1, 1, 1, 1, 1]])"
      ]
     },
     "execution_count": 172,
     "metadata": {},
     "output_type": "execute_result"
    }
   ],
   "source": [
    "N = 4\n",
    "node_group = AllPerms(N)\n",
    "node_group.lut"
   ]
  },
  {
   "cell_type": "code",
   "execution_count": null,
   "metadata": {},
   "outputs": [],
   "source": []
  }
 ],
 "metadata": {
  "kernelspec": {
   "display_name": "Python 3",
   "language": "python",
   "name": "python3"
  },
  "language_info": {
   "codemirror_mode": {
    "name": "ipython",
    "version": 3
   },
   "file_extension": ".py",
   "mimetype": "text/x-python",
   "name": "python",
   "nbconvert_exporter": "python",
   "pygments_lexer": "ipython3",
   "version": "3.6.9"
  }
 },
 "nbformat": 4,
 "nbformat_minor": 4
}
