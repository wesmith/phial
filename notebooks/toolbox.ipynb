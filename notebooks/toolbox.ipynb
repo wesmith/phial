{
 "cells": [
  {
   "cell_type": "code",
   "execution_count": 1,
   "metadata": {},
   "outputs": [],
   "source": [
    "import networkx as nx\n",
    "from networkx.drawing.nx_pydot import pydot_layout\n",
    "from pprint import pprint\n",
    "import pyphi\n",
    "\n",
    "import phial.toolbox as tb\n",
    "import phial.node_functions as nf\n",
    "import phial.experiment as ex\n",
    "from phial.utils import tic,toc\n",
    "from phial.experiment import Experiment\n",
    "tic() # start tracking time of Notebook load"
   ]
  },
  {
   "cell_type": "code",
   "execution_count": 2,
   "metadata": {
    "scrolled": true
   },
   "outputs": [
    {
     "name": "stderr",
     "output_type": "stream",
     "text": [
      "                                                         \r"
     ]
    }
   ],
   "source": [
    "exp = Experiment(['AB','AC', 'BA', 'BC', 'CA', 'CB'],\n",
    "    funcs = dict(A=nf.OR_func, B=nf.AND_func, C=nf.XOR_func),\n",
    "    title='3-node bidirectional or, xor, and',  \n",
    "    comment='Used in Mayner 2018 paper'\n",
    ")\n",
    "exp.run(countUnreachable=True)"
   ]
  },
  {
   "cell_type": "code",
   "execution_count": 3,
   "metadata": {},
   "outputs": [
    {
     "data": {
      "text/html": [
       "<div>\n",
       "<style scoped>\n",
       "    .dataframe tbody tr th:only-of-type {\n",
       "        vertical-align: middle;\n",
       "    }\n",
       "\n",
       "    .dataframe tbody tr th {\n",
       "        vertical-align: top;\n",
       "    }\n",
       "\n",
       "    .dataframe thead th {\n",
       "        text-align: right;\n",
       "    }\n",
       "</style>\n",
       "<table border=\"1\" class=\"dataframe\">\n",
       "  <thead>\n",
       "    <tr style=\"text-align: right;\">\n",
       "      <th></th>\n",
       "      <th>A</th>\n",
       "      <th>B</th>\n",
       "      <th>C</th>\n",
       "    </tr>\n",
       "  </thead>\n",
       "  <tbody>\n",
       "    <tr>\n",
       "      <th>000</th>\n",
       "      <td>0</td>\n",
       "      <td>0</td>\n",
       "      <td>0</td>\n",
       "    </tr>\n",
       "    <tr>\n",
       "      <th>100</th>\n",
       "      <td>0</td>\n",
       "      <td>0</td>\n",
       "      <td>0</td>\n",
       "    </tr>\n",
       "    <tr>\n",
       "      <th>010</th>\n",
       "      <td>0</td>\n",
       "      <td>0</td>\n",
       "      <td>0</td>\n",
       "    </tr>\n",
       "    <tr>\n",
       "      <th>110</th>\n",
       "      <td>0</td>\n",
       "      <td>0</td>\n",
       "      <td>1</td>\n",
       "    </tr>\n",
       "    <tr>\n",
       "      <th>001</th>\n",
       "      <td>0</td>\n",
       "      <td>0</td>\n",
       "      <td>0</td>\n",
       "    </tr>\n",
       "    <tr>\n",
       "      <th>101</th>\n",
       "      <td>0</td>\n",
       "      <td>1</td>\n",
       "      <td>0</td>\n",
       "    </tr>\n",
       "    <tr>\n",
       "      <th>011</th>\n",
       "      <td>1</td>\n",
       "      <td>0</td>\n",
       "      <td>0</td>\n",
       "    </tr>\n",
       "    <tr>\n",
       "      <th>111</th>\n",
       "      <td>1</td>\n",
       "      <td>1</td>\n",
       "      <td>1</td>\n",
       "    </tr>\n",
       "  </tbody>\n",
       "</table>\n",
       "</div>"
      ],
      "text/plain": [
       "     A  B  C\n",
       "000  0  0  0\n",
       "100  0  0  0\n",
       "010  0  0  0\n",
       "110  0  0  1\n",
       "001  0  0  0\n",
       "101  0  1  0\n",
       "011  1  0  0\n",
       "111  1  1  1"
      ]
     },
     "execution_count": 3,
     "metadata": {},
     "output_type": "execute_result"
    }
   ],
   "source": [
    "exp.net.tpm"
   ]
  },
  {
   "cell_type": "code",
   "execution_count": 4,
   "metadata": {},
   "outputs": [
    {
     "data": {
      "text/plain": [
       "{'100': {'phi': 0.243056, 'elapsed_seconds': 0.09047278389334679},\n",
       " '111': {'phi': 0.499999, 'elapsed_seconds': 0.08808665513060987},\n",
       " '001': {'phi': 0.243056, 'elapsed_seconds': 0.08560464112088084},\n",
       " '000': {'phi': 0.194445, 'elapsed_seconds': 0.09950627386569977},\n",
       " '010': {'phi': 0.243056, 'elapsed_seconds': 0.09080643695779145}}"
      ]
     },
     "execution_count": 4,
     "metadata": {},
     "output_type": "execute_result"
    }
   ],
   "source": [
    "exp.results  # 2/4 state compliment pairs have same phi"
   ]
  },
  {
   "cell_type": "code",
   "execution_count": 5,
   "metadata": {},
   "outputs": [
    {
     "data": {
      "text/plain": [
       "{'timestamp': '2020-05-14 11:00:14.625415',\n",
       " 'duration': 0.4552284521050751,\n",
       " 'results': {'100': {'phi': 0.243056, 'elapsed_seconds': 0.09047278389334679},\n",
       "  '111': {'phi': 0.499999, 'elapsed_seconds': 0.08808665513060987},\n",
       "  '001': {'phi': 0.243056, 'elapsed_seconds': 0.08560464112088084},\n",
       "  '000': {'phi': 0.194445, 'elapsed_seconds': 0.09950627386569977},\n",
       "  '010': {'phi': 0.243056, 'elapsed_seconds': 0.09080643695779145}},\n",
       " 'filename': None,\n",
       " 'uname': uname_result(system='Linux', node='chimp20', release='5.3.0-51-generic', version='#44~18.04.2-Ubuntu SMP Thu Apr 23 14:27:18 UTC 2020', machine='x86_64', processor='x86_64')}"
      ]
     },
     "execution_count": 5,
     "metadata": {},
     "output_type": "execute_result"
    }
   ],
   "source": [
    "exp.info()"
   ]
  },
  {
   "cell_type": "code",
   "execution_count": 6,
   "metadata": {},
   "outputs": [
    {
     "data": {
      "text/plain": [
       "3"
      ]
     },
     "execution_count": 6,
     "metadata": {},
     "output_type": "execute_result"
    }
   ],
   "source": [
    "len(exp.net)"
   ]
  },
  {
   "cell_type": "code",
   "execution_count": 7,
   "metadata": {},
   "outputs": [
    {
     "data": {
      "text/plain": [
       "{'edges': [('A', 'B'),\n",
       "  ('A', 'C'),\n",
       "  ('B', 'A'),\n",
       "  ('B', 'C'),\n",
       "  ('C', 'A'),\n",
       "  ('C', 'B')],\n",
       " 'nodes': ['A(0): 2,OR_func', 'B(1): 2,AND_func', 'C(2): 2,XOR_func'],\n",
       " 'num_in_states': 8,\n",
       " 'num_unreachable_states': 3,\n",
       " 'num_state_cc': 2,\n",
       " 'num_state_cycles': 2}"
      ]
     },
     "execution_count": 7,
     "metadata": {},
     "output_type": "execute_result"
    }
   ],
   "source": [
    "exp.net.info()"
   ]
  },
  {
   "cell_type": "code",
   "execution_count": 8,
   "metadata": {},
   "outputs": [
    {
     "data": {
      "text/plain": [
       "{'edges': [['A', 'B'],\n",
       "  ['A', 'C'],\n",
       "  ['B', 'A'],\n",
       "  ['B', 'C'],\n",
       "  ['C', 'A'],\n",
       "  ['C', 'B']],\n",
       " 'nodes': [{'label': 'A', 'id': 0, 'num_states': 2, 'func': 'OR'},\n",
       "  {'label': 'B', 'id': 1, 'num_states': 2, 'func': 'AND'},\n",
       "  {'label': 'C', 'id': 2, 'num_states': 2, 'func': 'XOR'}],\n",
       " 'tpm': [['000', '000'],\n",
       "  ['100', '000'],\n",
       "  ['010', '000'],\n",
       "  ['110', '001'],\n",
       "  ['001', '000'],\n",
       "  ['101', '010'],\n",
       "  ['011', '100'],\n",
       "  ['111', '111']]}"
      ]
     },
     "execution_count": 8,
     "metadata": {},
     "output_type": "execute_result"
    }
   ],
   "source": [
    "import json\n",
    "json.loads(exp.net.to_json())"
   ]
  },
  {
   "cell_type": "code",
   "execution_count": 9,
   "metadata": {},
   "outputs": [
    {
     "name": "stdout",
     "output_type": "stream",
     "text": [
      "Elapsed seconds=0.5034609301947057\n",
      "Completed on: 2020-05-14 11:00:15.114563\n"
     ]
    }
   ],
   "source": [
    "import datetime\n",
    "elapsed = toc()  # Seconds since start of Notebook load (assuming fresh run)\n",
    "print(f'Elapsed seconds={elapsed}')\n",
    "print(f'Completed on: {str(datetime.datetime.now())}')"
   ]
  }
 ],
 "metadata": {
  "kernelspec": {
   "display_name": "Python 3",
   "language": "python",
   "name": "python3"
  },
  "language_info": {
   "codemirror_mode": {
    "name": "ipython",
    "version": 3
   },
   "file_extension": ".py",
   "mimetype": "text/x-python",
   "name": "python",
   "nbconvert_exporter": "python",
   "pygments_lexer": "ipython3",
   "version": "3.6.9"
  }
 },
 "nbformat": 4,
 "nbformat_minor": 4
}
